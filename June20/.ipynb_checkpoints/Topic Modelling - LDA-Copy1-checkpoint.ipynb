{
 "cells": [
  {
   "cell_type": "code",
   "execution_count": 1,
   "metadata": {},
   "outputs": [],
   "source": [
    "import pandas as pd\n",
    "\n",
    "data = pd.read_csv('./data/abcnews-date-text.csv',error_bad_lines=False)\n",
    "data_text = data[['headline_text']]\n",
    "data_text['index']=data_text.index\n",
    "documents=data_text"
   ]
  },
  {
   "cell_type": "code",
   "execution_count": 2,
   "metadata": {},
   "outputs": [
    {
     "name": "stdout",
     "output_type": "stream",
     "text": [
      "1186018\n"
     ]
    }
   ],
   "source": [
    "print(len(documents))"
   ]
  },
  {
   "cell_type": "code",
   "execution_count": 3,
   "metadata": {},
   "outputs": [
    {
     "name": "stdout",
     "output_type": "stream",
     "text": [
      "                                       headline_text  index\n",
      "0  aba decides against community broadcasting lic...      0\n",
      "1     act fire witnesses must be aware of defamation      1\n",
      "2     a g calls for infrastructure protection summit      2\n",
      "3           air nz staff in aust strike for pay rise      3\n",
      "4      air nz strike to affect australian travellers      4\n"
     ]
    }
   ],
   "source": [
    "print(documents[:5])"
   ]
  },
  {
   "cell_type": "code",
   "execution_count": 4,
   "metadata": {},
   "outputs": [
    {
     "name": "stderr",
     "output_type": "stream",
     "text": [
      "unable to import 'smart_open.gcs', disabling that module\n",
      "[nltk_data] Downloading package wordnet to\n",
      "[nltk_data]     C:\\Users\\mushirih\\AppData\\Roaming\\nltk_data...\n",
      "[nltk_data]   Package wordnet is already up-to-date!\n"
     ]
    },
    {
     "data": {
      "text/plain": [
       "True"
      ]
     },
     "execution_count": 4,
     "metadata": {},
     "output_type": "execute_result"
    }
   ],
   "source": [
    "import gensim\n",
    "from gensim.utils import simple_preprocess\n",
    "from gensim.parsing.preprocessing import STOPWORDS\n",
    "from nltk.stem import WordNetLemmatizer,SnowballStemmer\n",
    "from nltk.stem.porter import *\n",
    "import numpy as np\n",
    "np.random.seed(2018)\n",
    "\n",
    "import nltk\n",
    "nltk.download('wordnet')"
   ]
  },
  {
   "cell_type": "code",
   "execution_count": 5,
   "metadata": {},
   "outputs": [],
   "source": [
    "def lemmatize_stemming(text):\n",
    "    stemmer= SnowballStemmer('english')\n",
    "    return stemmer.stem(WordNetLemmatizer().lemmatize(text, pos='v'))"
   ]
  },
  {
   "cell_type": "code",
   "execution_count": 6,
   "metadata": {},
   "outputs": [],
   "source": [
    "def preprocess(text):\n",
    "    result = []\n",
    "    for token in gensim.utils.simple_preprocess(text):\n",
    "        if token not in gensim.parsing.preprocessing.STOPWORDS  and len(token)>3:\n",
    "            result.append(lemmatize_stemming(token))\n",
    "            \n",
    "    return result"
   ]
  },
  {
   "cell_type": "code",
   "execution_count": 7,
   "metadata": {},
   "outputs": [
    {
     "name": "stdout",
     "output_type": "stream",
     "text": [
      "Original document:\n",
      "['ratepayers', 'group', 'wants', 'compulsory', 'local', 'govt', 'voting']\n",
      "\n",
      "\n",
      " tokenized and lemmatized doc:\n",
      "['ratepay', 'group', 'want', 'compulsori', 'local', 'govt', 'vote']\n"
     ]
    }
   ],
   "source": [
    "doc_sample = documents[documents['index']==4310].values[0][0]\n",
    "\n",
    "print('Original document:')\n",
    "words = []\n",
    "for word in doc_sample.split(' '):\n",
    "    words.append(word)\n",
    "print (words)\n",
    "\n",
    "print('\\n\\n tokenized and lemmatized doc:')\n",
    "print(preprocess(doc_sample))"
   ]
  },
  {
   "cell_type": "code",
   "execution_count": 8,
   "metadata": {},
   "outputs": [
    {
     "data": {
      "text/plain": [
       "0            [decid, communiti, broadcast, licenc]\n",
       "1                               [wit, awar, defam]\n",
       "2           [call, infrastructur, protect, summit]\n",
       "3                      [staff, aust, strike, rise]\n",
       "4             [strike, affect, australian, travel]\n",
       "5               [ambiti, olsson, win, tripl, jump]\n",
       "6           [antic, delight, record, break, barca]\n",
       "7    [aussi, qualifi, stosur, wast, memphi, match]\n",
       "8            [aust, address, secur, council, iraq]\n",
       "9                         [australia, lock, timet]\n",
       "Name: headline_text, dtype: object"
      ]
     },
     "execution_count": 8,
     "metadata": {},
     "output_type": "execute_result"
    }
   ],
   "source": [
    "processed_docs = documents['headline_text'].map(preprocess)\n",
    "processed_docs[:10]"
   ]
  },
  {
   "cell_type": "code",
   "execution_count": 9,
   "metadata": {},
   "outputs": [],
   "source": [
    "# dictionary = gensim.corpora.Dictionary(processed_docs)\n",
    "# count = 0\n",
    "\n",
    "# for i, j in dictionary.iteritems():\n",
    "#     for a, b in dictionary.iteritems():\n",
    "#         if j == b:\n",
    "#             count+=1\n",
    "#             print(i,j, count)\n",
    "        \n",
    "#     count=0\n",
    "   \n",
    "# #     count+=1\n",
    "# #     if count>10:\n",
    "# #         break"
   ]
  },
  {
   "cell_type": "code",
   "execution_count": 10,
   "metadata": {},
   "outputs": [
    {
     "name": "stdout",
     "output_type": "stream",
     "text": [
      "0 broadcast\n",
      "1 communiti\n",
      "2 decid\n",
      "3 licenc\n",
      "4 awar\n",
      "5 defam\n",
      "6 wit\n",
      "7 call\n",
      "8 infrastructur\n",
      "9 protect\n",
      "10 summit\n"
     ]
    }
   ],
   "source": [
    "dictionary = gensim.corpora.Dictionary(processed_docs)\n",
    "\n",
    "count=0\n",
    "\n",
    "for k, v in dictionary.iteritems():\n",
    "    print(k,v)\n",
    "    count +=1\n",
    "    if count>10:\n",
    "        break"
   ]
  },
  {
   "cell_type": "code",
   "execution_count": 11,
   "metadata": {},
   "outputs": [],
   "source": [
    "dictionary.filter_extremes(no_below=15, no_above=.5, keep_n=100000)"
   ]
  },
  {
   "cell_type": "code",
   "execution_count": 12,
   "metadata": {},
   "outputs": [
    {
     "data": {
      "text/plain": [
       "[(162, 1), (240, 1), (292, 1), (589, 1), (838, 1), (3567, 1), (3568, 1)]"
      ]
     },
     "execution_count": 12,
     "metadata": {},
     "output_type": "execute_result"
    }
   ],
   "source": [
    "bow_corpus = [dictionary.doc2bow(doc) for doc in processed_docs]\n",
    "bow_corpus[4310]"
   ]
  },
  {
   "cell_type": "code",
   "execution_count": 13,
   "metadata": {},
   "outputs": [
    {
     "data": {
      "text/plain": [
       "['ratepay', 'group', 'want', 'compulsori', 'local', 'govt', 'vote']"
      ]
     },
     "execution_count": 13,
     "metadata": {},
     "output_type": "execute_result"
    }
   ],
   "source": [
    "processed_docs[4310]"
   ]
  },
  {
   "cell_type": "code",
   "execution_count": 14,
   "metadata": {},
   "outputs": [
    {
     "name": "stdout",
     "output_type": "stream",
     "text": [
      "Word 162 (\"govt\") appears 1 times.\n",
      "Word 240 (\"group\") appears 1 times.\n",
      "Word 292 (\"vote\") appears 1 times.\n",
      "Word 589 (\"local\") appears 1 times.\n",
      "Word 838 (\"want\") appears 1 times.\n",
      "Word 3567 (\"compulsori\") appears 1 times.\n",
      "Word 3568 (\"ratepay\") appears 1 times.\n"
     ]
    }
   ],
   "source": [
    "bow_doc_4310 = bow_corpus[4310]\n",
    "\n",
    "for i in range(len(bow_doc_4310)):\n",
    "    print('Word {} (\\\"{}\\\") appears {} times.'.format(bow_doc_4310[i][0],\n",
    "                                                     dictionary[bow_doc_4310[i][0]],\n",
    "                                                     bow_doc_4310[i][1]))"
   ]
  },
  {
   "cell_type": "code",
   "execution_count": 15,
   "metadata": {},
   "outputs": [
    {
     "name": "stdout",
     "output_type": "stream",
     "text": [
      "[(0, 0.5850076620505259),\n",
      " (1, 0.38947256567331934),\n",
      " (2, 0.4997099083387053),\n",
      " (3, 0.5063271308533074)]\n"
     ]
    }
   ],
   "source": [
    "from gensim import corpora, models\n",
    "from pprint import pprint\n",
    "\n",
    "tfidf = models.TfidfModel(bow_corpus)\n",
    "corpus_tfidf = tfidf[bow_corpus]\n",
    "\n",
    "for doc in corpus_tfidf:\n",
    "    pprint(doc)\n",
    "    break"
   ]
  },
  {
   "cell_type": "code",
   "execution_count": 16,
   "metadata": {},
   "outputs": [],
   "source": [
    "lda = gensim.models.LdaMulticore(bow_corpus, num_topics=10,id2word=dictionary, passes=2, workers=2)"
   ]
  },
  {
   "cell_type": "code",
   "execution_count": 17,
   "metadata": {},
   "outputs": [
    {
     "name": "stdout",
     "output_type": "stream",
     "text": [
      "Topic:  0  Words:  0.022*\"hous\" + 0.022*\"south\" + 0.019*\"north\" + 0.017*\"bushfir\" + 0.016*\"miss\" + 0.013*\"interview\" + 0.012*\"west\" + 0.012*\"hospit\" + 0.011*\"island\" + 0.011*\"coast\"\n",
      "Topic:  1  Words:  0.032*\"kill\" + 0.023*\"shoot\" + 0.020*\"dead\" + 0.019*\"polic\" + 0.019*\"attack\" + 0.017*\"protest\" + 0.014*\"offic\" + 0.013*\"assault\" + 0.013*\"chines\" + 0.011*\"bodi\"\n",
      "Topic:  2  Words:  0.057*\"australia\" + 0.046*\"australian\" + 0.026*\"world\" + 0.018*\"canberra\" + 0.017*\"test\" + 0.013*\"win\" + 0.011*\"final\" + 0.011*\"farm\" + 0.010*\"return\" + 0.009*\"beat\"\n",
      "Topic:  3  Words:  0.030*\"polic\" + 0.029*\"charg\" + 0.026*\"court\" + 0.024*\"death\" + 0.024*\"murder\" + 0.020*\"woman\" + 0.017*\"face\" + 0.017*\"alleg\" + 0.016*\"crash\" + 0.013*\"jail\"\n",
      "Topic:  4  Words:  0.019*\"chang\" + 0.019*\"say\" + 0.015*\"speak\" + 0.015*\"power\" + 0.013*\"worker\" + 0.012*\"climat\" + 0.012*\"concern\" + 0.011*\"polit\" + 0.011*\"flood\" + 0.010*\"fear\"\n",
      "Topic:  5  Words:  0.021*\"market\" + 0.020*\"news\" + 0.018*\"women\" + 0.018*\"live\" + 0.016*\"tasmania\" + 0.013*\"high\" + 0.013*\"rise\" + 0.012*\"price\" + 0.012*\"lose\" + 0.012*\"break\"\n",
      "Topic:  6  Words:  0.035*\"elect\" + 0.018*\"water\" + 0.017*\"state\" + 0.015*\"tasmanian\" + 0.012*\"labor\" + 0.011*\"liber\" + 0.011*\"morrison\" + 0.011*\"leader\" + 0.010*\"parti\" + 0.010*\"campaign\"\n",
      "Topic:  7  Words:  0.020*\"donald\" + 0.014*\"nation\" + 0.014*\"farmer\" + 0.013*\"time\" + 0.013*\"rural\" + 0.013*\"council\" + 0.013*\"indigen\" + 0.012*\"school\" + 0.011*\"commiss\" + 0.011*\"plan\"\n",
      "Topic:  8  Words:  0.044*\"trump\" + 0.037*\"year\" + 0.035*\"sydney\" + 0.028*\"queensland\" + 0.022*\"home\" + 0.021*\"adelaid\" + 0.018*\"perth\" + 0.016*\"brisban\" + 0.015*\"peopl\" + 0.015*\"royal\"\n",
      "Topic:  9  Words:  0.031*\"govern\" + 0.020*\"warn\" + 0.018*\"feder\" + 0.015*\"countri\" + 0.015*\"fund\" + 0.014*\"claim\" + 0.014*\"life\" + 0.012*\"say\" + 0.012*\"stori\" + 0.012*\"health\"\n"
     ]
    }
   ],
   "source": [
    "for idx, topic in lda.print_topics(-1):\n",
    "    print('Topic: ',idx, ' Words: ', topic)"
   ]
  },
  {
   "cell_type": "code",
   "execution_count": 18,
   "metadata": {},
   "outputs": [
    {
     "name": "stdout",
     "output_type": "stream",
     "text": [
      "Topic:  0  Word:  0.015*\"charg\" + 0.014*\"murder\" + 0.014*\"court\" + 0.013*\"polic\" + 0.010*\"jail\" + 0.010*\"alleg\" + 0.009*\"sentenc\" + 0.009*\"drug\" + 0.009*\"death\" + 0.008*\"peopl\"\n",
      "Topic:  1  Word:  0.010*\"australia\" + 0.009*\"final\" + 0.008*\"gold\" + 0.007*\"coast\" + 0.007*\"world\" + 0.006*\"live\" + 0.006*\"sport\" + 0.006*\"australian\" + 0.006*\"open\" + 0.006*\"peter\"\n",
      "Topic:  2  Word:  0.013*\"rural\" + 0.011*\"news\" + 0.011*\"govern\" + 0.009*\"donald\" + 0.007*\"health\" + 0.007*\"market\" + 0.007*\"nation\" + 0.006*\"fund\" + 0.006*\"budget\" + 0.006*\"turnbul\"\n",
      "Topic:  3  Word:  0.019*\"crash\" + 0.013*\"die\" + 0.010*\"weather\" + 0.008*\"queensland\" + 0.008*\"road\" + 0.007*\"climat\" + 0.007*\"fatal\" + 0.007*\"dead\" + 0.007*\"truck\" + 0.006*\"kill\"\n",
      "Topic:  4  Word:  0.012*\"drum\" + 0.009*\"victorian\" + 0.008*\"elect\" + 0.008*\"hobart\" + 0.008*\"tuesday\" + 0.008*\"monday\" + 0.007*\"thursday\" + 0.006*\"pacif\" + 0.006*\"march\" + 0.006*\"australia\"\n",
      "Topic:  5  Word:  0.031*\"trump\" + 0.020*\"countri\" + 0.015*\"hour\" + 0.010*\"leagu\" + 0.007*\"celebr\" + 0.007*\"fiji\" + 0.007*\"korea\" + 0.006*\"world\" + 0.006*\"june\" + 0.005*\"america\"\n",
      "Topic:  6  Word:  0.016*\"interview\" + 0.011*\"stori\" + 0.010*\"search\" + 0.009*\"miss\" + 0.008*\"polic\" + 0.008*\"juli\" + 0.007*\"bushfir\" + 0.007*\"burn\" + 0.006*\"beach\" + 0.006*\"quiz\"\n",
      "Topic:  7  Word:  0.012*\"guilti\" + 0.009*\"wednesday\" + 0.009*\"stab\" + 0.009*\"child\" + 0.008*\"abus\" + 0.008*\"sexual\" + 0.008*\"plead\" + 0.007*\"kill\" + 0.007*\"august\" + 0.006*\"charg\"\n",
      "Topic:  8  Word:  0.010*\"friday\" + 0.009*\"morrison\" + 0.008*\"energi\" + 0.007*\"care\" + 0.007*\"age\" + 0.007*\"marriag\" + 0.006*\"track\" + 0.006*\"station\" + 0.006*\"footag\" + 0.006*\"facebook\"\n",
      "Topic:  9  Word:  0.013*\"royal\" + 0.011*\"commiss\" + 0.009*\"michael\" + 0.008*\"grandstand\" + 0.008*\"christma\" + 0.006*\"cancer\" + 0.006*\"histori\" + 0.006*\"disabl\" + 0.006*\"alan\" + 0.005*\"hong\"\n"
     ]
    }
   ],
   "source": [
    "lda_model_tfidf = gensim.models.LdaMulticore(corpus_tfidf, num_topics=10, id2word= dictionary, passes =2, workers=4)\n",
    "\n",
    "for idx, topic in lda_model_tfidf.print_topics(-1):\n",
    "    print('Topic: ',idx, ' Word: ', topic)"
   ]
  },
  {
   "cell_type": "code",
   "execution_count": 19,
   "metadata": {},
   "outputs": [
    {
     "name": "stdout",
     "output_type": "stream",
     "text": [
      "\n",
      "Score: 0.46491488814353943\t \n",
      "Topic: 0.020*\"donald\" + 0.014*\"nation\" + 0.014*\"farmer\" + 0.013*\"time\" + 0.013*\"rural\" + 0.013*\"council\" + 0.013*\"indigen\" + 0.012*\"school\" + 0.011*\"commiss\" + 0.011*\"plan\"\n",
      "\n",
      "Score: 0.4350532293319702\t \n",
      "Topic: 0.031*\"govern\" + 0.020*\"warn\" + 0.018*\"feder\" + 0.015*\"countri\" + 0.015*\"fund\" + 0.014*\"claim\" + 0.014*\"life\" + 0.012*\"say\" + 0.012*\"stori\" + 0.012*\"health\"\n",
      "\n",
      "Score: 0.012506981380283833\t \n",
      "Topic: 0.035*\"elect\" + 0.018*\"water\" + 0.017*\"state\" + 0.015*\"tasmanian\" + 0.012*\"labor\" + 0.011*\"liber\" + 0.011*\"morrison\" + 0.011*\"leader\" + 0.010*\"parti\" + 0.010*\"campaign\"\n",
      "\n",
      "Score: 0.012503859587013721\t \n",
      "Topic: 0.019*\"chang\" + 0.019*\"say\" + 0.015*\"speak\" + 0.015*\"power\" + 0.013*\"worker\" + 0.012*\"climat\" + 0.012*\"concern\" + 0.011*\"polit\" + 0.011*\"flood\" + 0.010*\"fear\"\n",
      "\n",
      "Score: 0.012503507547080517\t \n",
      "Topic: 0.022*\"hous\" + 0.022*\"south\" + 0.019*\"north\" + 0.017*\"bushfir\" + 0.016*\"miss\" + 0.013*\"interview\" + 0.012*\"west\" + 0.012*\"hospit\" + 0.011*\"island\" + 0.011*\"coast\"\n",
      "\n",
      "Score: 0.012503507547080517\t \n",
      "Topic: 0.032*\"kill\" + 0.023*\"shoot\" + 0.020*\"dead\" + 0.019*\"polic\" + 0.019*\"attack\" + 0.017*\"protest\" + 0.014*\"offic\" + 0.013*\"assault\" + 0.013*\"chines\" + 0.011*\"bodi\"\n",
      "\n",
      "Score: 0.012503507547080517\t \n",
      "Topic: 0.057*\"australia\" + 0.046*\"australian\" + 0.026*\"world\" + 0.018*\"canberra\" + 0.017*\"test\" + 0.013*\"win\" + 0.011*\"final\" + 0.011*\"farm\" + 0.010*\"return\" + 0.009*\"beat\"\n",
      "\n",
      "Score: 0.012503507547080517\t \n",
      "Topic: 0.030*\"polic\" + 0.029*\"charg\" + 0.026*\"court\" + 0.024*\"death\" + 0.024*\"murder\" + 0.020*\"woman\" + 0.017*\"face\" + 0.017*\"alleg\" + 0.016*\"crash\" + 0.013*\"jail\"\n",
      "\n",
      "Score: 0.012503507547080517\t \n",
      "Topic: 0.021*\"market\" + 0.020*\"news\" + 0.018*\"women\" + 0.018*\"live\" + 0.016*\"tasmania\" + 0.013*\"high\" + 0.013*\"rise\" + 0.012*\"price\" + 0.012*\"lose\" + 0.012*\"break\"\n",
      "\n",
      "Score: 0.012503507547080517\t \n",
      "Topic: 0.044*\"trump\" + 0.037*\"year\" + 0.035*\"sydney\" + 0.028*\"queensland\" + 0.022*\"home\" + 0.021*\"adelaid\" + 0.018*\"perth\" + 0.016*\"brisban\" + 0.015*\"peopl\" + 0.015*\"royal\"\n"
     ]
    }
   ],
   "source": [
    "for index, score in sorted(lda[bow_corpus[4310]], key=lambda tup: -1*tup[1]):\n",
    "    print(\"\\nScore: {}\\t \\nTopic: {}\".format(score, lda.print_topic(index, 10)))\n",
    "\n"
   ]
  },
  {
   "cell_type": "code",
   "execution_count": 20,
   "metadata": {},
   "outputs": [
    {
     "name": "stdout",
     "output_type": "stream",
     "text": [
      "Score: 0.4884171485900879 \t Topic: 0.021*\"market\" + 0.020*\"news\" + 0.018*\"women\" + 0.018*\"live\" + 0.016*\"tasmania\"\n",
      "Score: 0.21190349757671356 \t Topic: 0.035*\"elect\" + 0.018*\"water\" + 0.017*\"state\" + 0.015*\"tasmanian\" + 0.012*\"labor\"\n",
      "Score: 0.1829424798488617 \t Topic: 0.030*\"polic\" + 0.029*\"charg\" + 0.026*\"court\" + 0.024*\"death\" + 0.024*\"murder\"\n",
      "Score: 0.01667729578912258 \t Topic: 0.031*\"govern\" + 0.020*\"warn\" + 0.018*\"feder\" + 0.015*\"countri\" + 0.015*\"fund\"\n",
      "Score: 0.016677290201187134 \t Topic: 0.019*\"chang\" + 0.019*\"say\" + 0.015*\"speak\" + 0.015*\"power\" + 0.013*\"worker\"\n",
      "Score: 0.016676466912031174 \t Topic: 0.022*\"hous\" + 0.022*\"south\" + 0.019*\"north\" + 0.017*\"bushfir\" + 0.016*\"miss\"\n",
      "Score: 0.016676466912031174 \t Topic: 0.032*\"kill\" + 0.023*\"shoot\" + 0.020*\"dead\" + 0.019*\"polic\" + 0.019*\"attack\"\n",
      "Score: 0.016676466912031174 \t Topic: 0.057*\"australia\" + 0.046*\"australian\" + 0.026*\"world\" + 0.018*\"canberra\" + 0.017*\"test\"\n",
      "Score: 0.016676466912031174 \t Topic: 0.020*\"donald\" + 0.014*\"nation\" + 0.014*\"farmer\" + 0.013*\"time\" + 0.013*\"rural\"\n",
      "Score: 0.016676466912031174 \t Topic: 0.044*\"trump\" + 0.037*\"year\" + 0.035*\"sydney\" + 0.028*\"queensland\" + 0.022*\"home\"\n"
     ]
    }
   ],
   "source": [
    "unseen_document = 'How a Pentagon deal became an identity crisis for Google'\n",
    "\n",
    "bow_vector = dictionary.doc2bow(preprocess(unseen_document))\n",
    "\n",
    "for index, score in sorted(lda[bow_vector], key =lambda tup: -1*tup[1]):\n",
    "    print('Score: {} \\t Topic: {}'.format(score,lda.print_topic(index,5)))"
   ]
  },
  {
   "cell_type": "code",
   "execution_count": null,
   "metadata": {},
   "outputs": [],
   "source": []
  }
 ],
 "metadata": {
  "kernelspec": {
   "display_name": "Python 3",
   "language": "python",
   "name": "python3"
  },
  "language_info": {
   "codemirror_mode": {
    "name": "ipython",
    "version": 3
   },
   "file_extension": ".py",
   "mimetype": "text/x-python",
   "name": "python",
   "nbconvert_exporter": "python",
   "pygments_lexer": "ipython3",
   "version": "3.7.6"
  }
 },
 "nbformat": 4,
 "nbformat_minor": 4
}
