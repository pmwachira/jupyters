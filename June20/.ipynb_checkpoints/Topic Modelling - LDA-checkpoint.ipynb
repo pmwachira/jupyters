{
 "cells": [
  {
   "cell_type": "code",
   "execution_count": 4,
   "metadata": {},
   "outputs": [],
   "source": [
    "import pandas as pd\n",
    "\n",
    "data = pd.read_csv('./data/abcnews-date-text.csv',error_bad_lines=False)\n",
    "data_text = data[['headline_text']]\n",
    "data_text['index']=data_text.index\n",
    "documents=data_text"
   ]
  },
  {
   "cell_type": "code",
   "execution_count": 5,
   "metadata": {},
   "outputs": [
    {
     "name": "stdout",
     "output_type": "stream",
     "text": [
      "1186018\n"
     ]
    }
   ],
   "source": [
    "print(len(documents))"
   ]
  },
  {
   "cell_type": "code",
   "execution_count": 6,
   "metadata": {},
   "outputs": [
    {
     "name": "stdout",
     "output_type": "stream",
     "text": [
      "                                       headline_text  index\n",
      "0  aba decides against community broadcasting lic...      0\n",
      "1     act fire witnesses must be aware of defamation      1\n",
      "2     a g calls for infrastructure protection summit      2\n",
      "3           air nz staff in aust strike for pay rise      3\n",
      "4      air nz strike to affect australian travellers      4\n"
     ]
    }
   ],
   "source": [
    "print(documents[:5])"
   ]
  },
  {
   "cell_type": "code",
   "execution_count": 7,
   "metadata": {},
   "outputs": [
    {
     "name": "stderr",
     "output_type": "stream",
     "text": [
      "unable to import 'smart_open.gcs', disabling that module\n",
      "[nltk_data] Downloading package wordnet to\n",
      "[nltk_data]     C:\\Users\\mushirih\\AppData\\Roaming\\nltk_data...\n",
      "[nltk_data]   Package wordnet is already up-to-date!\n"
     ]
    },
    {
     "data": {
      "text/plain": [
       "True"
      ]
     },
     "execution_count": 7,
     "metadata": {},
     "output_type": "execute_result"
    }
   ],
   "source": [
    "import gensim\n",
    "from gensim.utils import simple_preprocess\n",
    "from gensim.parsing.preprocessing import STOPWORDS\n",
    "from nltk.stem import WordNetLemmatizer,SnowballStemmer\n",
    "from nltk.stem.porter import *\n",
    "import numpy as np\n",
    "np.random.seed(2018)\n",
    "\n",
    "import nltk\n",
    "nltk.download('wordnet')"
   ]
  },
  {
   "cell_type": "code",
   "execution_count": 18,
   "metadata": {},
   "outputs": [],
   "source": [
    "def lemmatize_stemming(text):\n",
    "    stemmer= SnowballStemmer('english')\n",
    "    return stemmer.stem(WordNetLemmatizer().lemmatize(text, pos='v'))"
   ]
  },
  {
   "cell_type": "code",
   "execution_count": 19,
   "metadata": {},
   "outputs": [],
   "source": [
    "def preprocess(text):\n",
    "    result = []\n",
    "    for token in gensim.utils.simple_preprocess(text):\n",
    "        if token not in gensim.parsing.preprocessing.STOPWORDS  and len(token)>3:\n",
    "            result.append(lemmatize_stemming(token))\n",
    "            \n",
    "    return result"
   ]
  },
  {
   "cell_type": "code",
   "execution_count": 20,
   "metadata": {},
   "outputs": [
    {
     "name": "stdout",
     "output_type": "stream",
     "text": [
      "Original document:\n",
      "['ratepayers', 'group', 'wants', 'compulsory', 'local', 'govt', 'voting']\n",
      "\n",
      "\n",
      " tokenized and lemmatized doc:\n",
      "['ratepay', 'group', 'want', 'compulsori', 'local', 'govt', 'vote']\n"
     ]
    }
   ],
   "source": [
    "doc_sample = documents[documents['index']==4310].values[0][0]\n",
    "\n",
    "print('Original document:')\n",
    "words = []\n",
    "for word in doc_sample.split(' '):\n",
    "    words.append(word)\n",
    "print (words)\n",
    "\n",
    "print('\\n\\n tokenized and lemmatized doc:')\n",
    "print(preprocess(doc_sample))"
   ]
  },
  {
   "cell_type": "code",
   "execution_count": 21,
   "metadata": {},
   "outputs": [
    {
     "data": {
      "text/plain": [
       "0            [decid, communiti, broadcast, licenc]\n",
       "1                               [wit, awar, defam]\n",
       "2           [call, infrastructur, protect, summit]\n",
       "3                      [staff, aust, strike, rise]\n",
       "4             [strike, affect, australian, travel]\n",
       "5               [ambiti, olsson, win, tripl, jump]\n",
       "6           [antic, delight, record, break, barca]\n",
       "7    [aussi, qualifi, stosur, wast, memphi, match]\n",
       "8            [aust, address, secur, council, iraq]\n",
       "9                         [australia, lock, timet]\n",
       "Name: headline_text, dtype: object"
      ]
     },
     "execution_count": 21,
     "metadata": {},
     "output_type": "execute_result"
    }
   ],
   "source": [
    "processed_docs = documents['headline_text'].map(preprocess)\n",
    "processed_docs[:10]"
   ]
  },
  {
   "cell_type": "code",
   "execution_count": 30,
   "metadata": {},
   "outputs": [
    {
     "ename": "AttributeError",
     "evalue": "'set' object has no attribute 'sort'",
     "output_type": "error",
     "traceback": [
      "\u001b[1;31m---------------------------------------------------------------------------\u001b[0m",
      "\u001b[1;31mAttributeError\u001b[0m                            Traceback (most recent call last)",
      "\u001b[1;32m<ipython-input-30-0a82774e9a9a>\u001b[0m in \u001b[0;36m<module>\u001b[1;34m\u001b[0m\n\u001b[0;32m      2\u001b[0m \u001b[0mcount\u001b[0m \u001b[1;33m=\u001b[0m \u001b[1;36m0\u001b[0m\u001b[1;33m\u001b[0m\u001b[1;33m\u001b[0m\u001b[0m\n\u001b[0;32m      3\u001b[0m \u001b[1;33m\u001b[0m\u001b[0m\n\u001b[1;32m----> 4\u001b[1;33m \u001b[1;32mfor\u001b[0m \u001b[0mi\u001b[0m\u001b[1;33m,\u001b[0m \u001b[0mj\u001b[0m \u001b[1;32min\u001b[0m \u001b[0mset\u001b[0m\u001b[1;33m(\u001b[0m\u001b[0mdictionary\u001b[0m\u001b[1;33m.\u001b[0m\u001b[0miteritems\u001b[0m\u001b[1;33m(\u001b[0m\u001b[1;33m)\u001b[0m\u001b[1;33m)\u001b[0m\u001b[1;33m.\u001b[0m\u001b[0msort\u001b[0m\u001b[1;33m(\u001b[0m\u001b[1;33m)\u001b[0m\u001b[1;33m:\u001b[0m\u001b[1;33m\u001b[0m\u001b[1;33m\u001b[0m\u001b[0m\n\u001b[0m\u001b[0;32m      5\u001b[0m     \u001b[0mprint\u001b[0m\u001b[1;33m(\u001b[0m\u001b[0mi\u001b[0m\u001b[1;33m,\u001b[0m\u001b[0mj\u001b[0m\u001b[1;33m)\u001b[0m\u001b[1;33m\u001b[0m\u001b[1;33m\u001b[0m\u001b[0m\n\u001b[0;32m      6\u001b[0m \u001b[1;31m#     for a, b in dictionary.iteritems():\u001b[0m\u001b[1;33m\u001b[0m\u001b[1;33m\u001b[0m\u001b[1;33m\u001b[0m\u001b[0m\n",
      "\u001b[1;31mAttributeError\u001b[0m: 'set' object has no attribute 'sort'"
     ]
    }
   ],
   "source": [
    "# dictionary = gensim.corpora.Dictionary(processed_docs)\n",
    "# count = 0\n",
    "\n",
    "# for i, j in dictionary.iteritems():\n",
    "#     for a, b in dictionary.iteritems():\n",
    "#         if j == b:\n",
    "#             count+=1\n",
    "#             print(i,j, count)\n",
    "        \n",
    "#     count=0\n",
    "   \n",
    "# #     count+=1\n",
    "# #     if count>10:\n",
    "# #         break"
   ]
  },
  {
   "cell_type": "code",
   "execution_count": 31,
   "metadata": {},
   "outputs": [
    {
     "name": "stdout",
     "output_type": "stream",
     "text": [
      "0 broadcast\n",
      "1 communiti\n",
      "2 decid\n",
      "3 licenc\n",
      "4 awar\n",
      "5 defam\n",
      "6 wit\n",
      "7 call\n",
      "8 infrastructur\n",
      "9 protect\n",
      "10 summit\n"
     ]
    }
   ],
   "source": [
    "dictionary = gensim.corpora.Dictionary(processed_docs)\n",
    "\n",
    "count=0\n",
    "\n",
    "for k, v in dictionary.iteritems():\n",
    "    print(k,v)\n",
    "    count +=1\n",
    "    if count>10:\n",
    "        break"
   ]
  },
  {
   "cell_type": "code",
   "execution_count": 33,
   "metadata": {},
   "outputs": [],
   "source": [
    "dictionary.filter_extremes(no_below=15, no_above=.5, keep_n=100000)"
   ]
  },
  {
   "cell_type": "code",
   "execution_count": 34,
   "metadata": {},
   "outputs": [
    {
     "data": {
      "text/plain": [
       "[(162, 1), (240, 1), (292, 1), (589, 1), (838, 1), (3567, 1), (3568, 1)]"
      ]
     },
     "execution_count": 34,
     "metadata": {},
     "output_type": "execute_result"
    }
   ],
   "source": [
    "bow_corpus = [dictionary.doc2bow(doc) for doc in processed_docs]\n",
    "bow_corpus[4310]"
   ]
  },
  {
   "cell_type": "code",
   "execution_count": 35,
   "metadata": {},
   "outputs": [
    {
     "data": {
      "text/plain": [
       "['ratepay', 'group', 'want', 'compulsori', 'local', 'govt', 'vote']"
      ]
     },
     "execution_count": 35,
     "metadata": {},
     "output_type": "execute_result"
    }
   ],
   "source": [
    "processed_docs[4310]"
   ]
  },
  {
   "cell_type": "code",
   "execution_count": 36,
   "metadata": {},
   "outputs": [
    {
     "name": "stdout",
     "output_type": "stream",
     "text": [
      "Word 162 (\"govt\") appears 1 times.\n",
      "Word 240 (\"group\") appears 1 times.\n",
      "Word 292 (\"vote\") appears 1 times.\n",
      "Word 589 (\"local\") appears 1 times.\n",
      "Word 838 (\"want\") appears 1 times.\n",
      "Word 3567 (\"compulsori\") appears 1 times.\n",
      "Word 3568 (\"ratepay\") appears 1 times.\n"
     ]
    }
   ],
   "source": [
    "bow_doc_4310 = bow_corpus[4310]\n",
    "\n",
    "for i in range(len(bow_doc_4310)):\n",
    "    print('Word {} (\\\"{}\\\") appears {} times.'.format(bow_doc_4310[i][0],\n",
    "                                                     dictionary[bow_doc_4310[i][0]],\n",
    "                                                     bow_doc_4310[i][1]))"
   ]
  },
  {
   "cell_type": "code",
   "execution_count": 37,
   "metadata": {},
   "outputs": [
    {
     "name": "stdout",
     "output_type": "stream",
     "text": [
      "[(0, 0.5850076620505259),\n",
      " (1, 0.38947256567331934),\n",
      " (2, 0.4997099083387053),\n",
      " (3, 0.5063271308533074)]\n"
     ]
    }
   ],
   "source": [
    "from gensim import corpora, models\n",
    "from pprint import pprint\n",
    "\n",
    "tfidf = models.TfidfModel(bow_corpus)\n",
    "corpus_tfidf = tfidf[bow_corpus]\n",
    "\n",
    "for doc in corpus_tfidf:\n",
    "    pprint(doc)\n",
    "    break"
   ]
  },
  {
   "cell_type": "code",
   "execution_count": 38,
   "metadata": {},
   "outputs": [],
   "source": [
    "lda = gensim.models.LdaMulticore(bow_corpus, num_topics=10,id2word=dictionary, passes=2, workers=2)"
   ]
  },
  {
   "cell_type": "code",
   "execution_count": 40,
   "metadata": {},
   "outputs": [
    {
     "name": "stdout",
     "output_type": "stream",
     "text": [
      "Topic:  0  Words:  0.022*\"south\" + 0.022*\"hous\" + 0.020*\"north\" + 0.016*\"miss\" + 0.015*\"bushfir\" + 0.013*\"interview\" + 0.012*\"west\" + 0.011*\"hospit\" + 0.011*\"coast\" + 0.010*\"island\"\n",
      "Topic:  1  Words:  0.030*\"kill\" + 0.022*\"shoot\" + 0.019*\"attack\" + 0.019*\"dead\" + 0.019*\"polic\" + 0.017*\"protest\" + 0.013*\"offic\" + 0.013*\"assault\" + 0.012*\"chines\" + 0.011*\"michael\"\n",
      "Topic:  2  Words:  0.057*\"australia\" + 0.046*\"australian\" + 0.027*\"world\" + 0.018*\"canberra\" + 0.017*\"test\" + 0.013*\"win\" + 0.011*\"final\" + 0.011*\"farm\" + 0.010*\"return\" + 0.010*\"beat\"\n",
      "Topic:  3  Words:  0.030*\"polic\" + 0.029*\"charg\" + 0.026*\"court\" + 0.025*\"death\" + 0.024*\"murder\" + 0.020*\"woman\" + 0.017*\"face\" + 0.017*\"alleg\" + 0.016*\"crash\" + 0.013*\"jail\"\n",
      "Topic:  4  Words:  0.019*\"chang\" + 0.018*\"say\" + 0.015*\"speak\" + 0.015*\"power\" + 0.013*\"worker\" + 0.012*\"concern\" + 0.012*\"climat\" + 0.011*\"flood\" + 0.010*\"fear\" + 0.010*\"storm\"\n",
      "Topic:  5  Words:  0.021*\"market\" + 0.019*\"news\" + 0.018*\"women\" + 0.017*\"live\" + 0.016*\"tasmania\" + 0.013*\"rise\" + 0.013*\"high\" + 0.012*\"price\" + 0.012*\"lose\" + 0.012*\"street\"\n",
      "Topic:  6  Words:  0.034*\"elect\" + 0.018*\"water\" + 0.017*\"state\" + 0.016*\"tasmanian\" + 0.012*\"labor\" + 0.011*\"liber\" + 0.010*\"leader\" + 0.010*\"morrison\" + 0.010*\"parti\" + 0.010*\"campaign\"\n",
      "Topic:  7  Words:  0.020*\"donald\" + 0.014*\"nation\" + 0.014*\"farmer\" + 0.013*\"rural\" + 0.013*\"time\" + 0.013*\"council\" + 0.013*\"indigen\" + 0.011*\"school\" + 0.011*\"plan\" + 0.011*\"commiss\"\n",
      "Topic:  8  Words:  0.045*\"trump\" + 0.037*\"year\" + 0.035*\"sydney\" + 0.028*\"queensland\" + 0.022*\"home\" + 0.021*\"adelaid\" + 0.019*\"perth\" + 0.016*\"brisban\" + 0.015*\"peopl\" + 0.015*\"royal\"\n",
      "Topic:  9  Words:  0.032*\"govern\" + 0.020*\"warn\" + 0.019*\"feder\" + 0.015*\"countri\" + 0.015*\"fund\" + 0.015*\"claim\" + 0.014*\"life\" + 0.013*\"say\" + 0.012*\"health\" + 0.011*\"stori\"\n"
     ]
    }
   ],
   "source": [
    "for idx, topic in lda.print_topics(-1):\n",
    "    print('Topic: ',idx, ' Words: ', topic)"
   ]
  },
  {
   "cell_type": "code",
   "execution_count": 41,
   "metadata": {},
   "outputs": [
    {
     "name": "stdout",
     "output_type": "stream",
     "text": [
      "Topic:  0  Word:  0.020*\"countri\" + 0.016*\"donald\" + 0.015*\"hour\" + 0.010*\"final\" + 0.009*\"thursday\" + 0.008*\"grandstand\" + 0.007*\"open\" + 0.006*\"celebr\" + 0.006*\"mark\" + 0.006*\"march\"\n",
      "Topic:  1  Word:  0.016*\"interview\" + 0.013*\"live\" + 0.011*\"stori\" + 0.009*\"climat\" + 0.008*\"david\" + 0.008*\"sport\" + 0.008*\"pacif\" + 0.007*\"hobart\" + 0.006*\"speak\" + 0.006*\"export\"\n",
      "Topic:  2  Word:  0.022*\"news\" + 0.015*\"rural\" + 0.015*\"drum\" + 0.010*\"turnbul\" + 0.009*\"tuesday\" + 0.009*\"michael\" + 0.008*\"nation\" + 0.007*\"bushfir\" + 0.007*\"zealand\" + 0.006*\"insid\"\n",
      "Topic:  3  Word:  0.021*\"trump\" + 0.018*\"polic\" + 0.017*\"charg\" + 0.015*\"murder\" + 0.013*\"woman\" + 0.012*\"crash\" + 0.010*\"alleg\" + 0.010*\"court\" + 0.009*\"death\" + 0.009*\"shoot\"\n",
      "Topic:  4  Word:  0.008*\"kill\" + 0.008*\"presid\" + 0.006*\"say\" + 0.006*\"china\" + 0.006*\"fiji\" + 0.006*\"energi\" + 0.006*\"syria\" + 0.006*\"know\" + 0.005*\"australian\" + 0.005*\"islam\"\n",
      "Topic:  5  Word:  0.009*\"street\" + 0.008*\"market\" + 0.007*\"wall\" + 0.007*\"price\" + 0.007*\"share\" + 0.006*\"hunter\" + 0.006*\"korea\" + 0.006*\"australian\" + 0.006*\"octob\" + 0.005*\"cancer\"\n",
      "Topic:  6  Word:  0.011*\"australia\" + 0.010*\"world\" + 0.008*\"cricket\" + 0.006*\"rugbi\" + 0.006*\"test\" + 0.006*\"andrew\" + 0.006*\"john\" + 0.006*\"august\" + 0.006*\"septemb\" + 0.005*\"peter\"\n",
      "Topic:  7  Word:  0.012*\"elect\" + 0.010*\"weather\" + 0.008*\"labor\" + 0.008*\"juli\" + 0.008*\"liber\" + 0.007*\"explain\" + 0.006*\"parti\" + 0.006*\"parliament\" + 0.005*\"brief\" + 0.005*\"minist\"\n",
      "Topic:  8  Word:  0.007*\"health\" + 0.007*\"royal\" + 0.007*\"commiss\" + 0.007*\"farmer\" + 0.006*\"water\" + 0.006*\"budget\" + 0.006*\"queensland\" + 0.006*\"drought\" + 0.005*\"mental\" + 0.005*\"govern\"\n",
      "Topic:  9  Word:  0.008*\"monday\" + 0.007*\"care\" + 0.007*\"christma\" + 0.006*\"violenc\" + 0.006*\"financ\" + 0.005*\"outback\" + 0.005*\"age\" + 0.005*\"properti\" + 0.005*\"school\" + 0.005*\"domest\"\n"
     ]
    }
   ],
   "source": [
    "lda_model_tfidf = gensim.models.LdaMulticore(corpus_tfidf, num_topics=10, id2word= dictionary, passes =2, workers=4)\n",
    "\n",
    "for idx, topic in lda_model_tfidf.print_topics(-1):\n",
    "    print('Topic: ',idx, ' Word: ', topic)"
   ]
  },
  {
   "cell_type": "code",
   "execution_count": 43,
   "metadata": {},
   "outputs": [
    {
     "name": "stdout",
     "output_type": "stream",
     "text": [
      "\n",
      "Score: 0.4505060315132141\t \n",
      "Topic: 0.020*\"donald\" + 0.014*\"nation\" + 0.014*\"farmer\" + 0.013*\"rural\" + 0.013*\"time\" + 0.013*\"council\" + 0.013*\"indigen\" + 0.011*\"school\" + 0.011*\"plan\" + 0.011*\"commiss\"\n",
      "\n",
      "Score: 0.4494630694389343\t \n",
      "Topic: 0.032*\"govern\" + 0.020*\"warn\" + 0.019*\"feder\" + 0.015*\"countri\" + 0.015*\"fund\" + 0.015*\"claim\" + 0.014*\"life\" + 0.013*\"say\" + 0.012*\"health\" + 0.011*\"stori\"\n",
      "\n",
      "Score: 0.012506305240094662\t \n",
      "Topic: 0.034*\"elect\" + 0.018*\"water\" + 0.017*\"state\" + 0.016*\"tasmanian\" + 0.012*\"labor\" + 0.011*\"liber\" + 0.010*\"leader\" + 0.010*\"morrison\" + 0.010*\"parti\" + 0.010*\"campaign\"\n",
      "\n",
      "Score: 0.012503791600465775\t \n",
      "Topic: 0.019*\"chang\" + 0.018*\"say\" + 0.015*\"speak\" + 0.015*\"power\" + 0.013*\"worker\" + 0.012*\"concern\" + 0.012*\"climat\" + 0.011*\"flood\" + 0.010*\"fear\" + 0.010*\"storm\"\n",
      "\n",
      "Score: 0.01250346377491951\t \n",
      "Topic: 0.022*\"south\" + 0.022*\"hous\" + 0.020*\"north\" + 0.016*\"miss\" + 0.015*\"bushfir\" + 0.013*\"interview\" + 0.012*\"west\" + 0.011*\"hospit\" + 0.011*\"coast\" + 0.010*\"island\"\n",
      "\n",
      "Score: 0.01250346377491951\t \n",
      "Topic: 0.030*\"kill\" + 0.022*\"shoot\" + 0.019*\"attack\" + 0.019*\"dead\" + 0.019*\"polic\" + 0.017*\"protest\" + 0.013*\"offic\" + 0.013*\"assault\" + 0.012*\"chines\" + 0.011*\"michael\"\n",
      "\n",
      "Score: 0.01250346377491951\t \n",
      "Topic: 0.057*\"australia\" + 0.046*\"australian\" + 0.027*\"world\" + 0.018*\"canberra\" + 0.017*\"test\" + 0.013*\"win\" + 0.011*\"final\" + 0.011*\"farm\" + 0.010*\"return\" + 0.010*\"beat\"\n",
      "\n",
      "Score: 0.01250346377491951\t \n",
      "Topic: 0.030*\"polic\" + 0.029*\"charg\" + 0.026*\"court\" + 0.025*\"death\" + 0.024*\"murder\" + 0.020*\"woman\" + 0.017*\"face\" + 0.017*\"alleg\" + 0.016*\"crash\" + 0.013*\"jail\"\n",
      "\n",
      "Score: 0.01250346377491951\t \n",
      "Topic: 0.021*\"market\" + 0.019*\"news\" + 0.018*\"women\" + 0.017*\"live\" + 0.016*\"tasmania\" + 0.013*\"rise\" + 0.013*\"high\" + 0.012*\"price\" + 0.012*\"lose\" + 0.012*\"street\"\n",
      "\n",
      "Score: 0.01250346377491951\t \n",
      "Topic: 0.045*\"trump\" + 0.037*\"year\" + 0.035*\"sydney\" + 0.028*\"queensland\" + 0.022*\"home\" + 0.021*\"adelaid\" + 0.019*\"perth\" + 0.016*\"brisban\" + 0.015*\"peopl\" + 0.015*\"royal\"\n"
     ]
    }
   ],
   "source": [
    "for index, score in sorted(lda[bow_corpus[4310]], key=lambda tup: -1*tup[1]):\n",
    "    print(\"\\nScore: {}\\t \\nTopic: {}\".format(score, lda.print_topic(index, 10)))\n",
    "\n"
   ]
  },
  {
   "cell_type": "code",
   "execution_count": 45,
   "metadata": {},
   "outputs": [
    {
     "name": "stdout",
     "output_type": "stream",
     "text": [
      "Score: 0.4895166754722595 \t Topic: 0.021*\"market\" + 0.019*\"news\" + 0.018*\"women\" + 0.017*\"live\" + 0.016*\"tasmania\"\n",
      "Score: 0.21079252660274506 \t Topic: 0.034*\"elect\" + 0.018*\"water\" + 0.017*\"state\" + 0.016*\"tasmanian\" + 0.012*\"labor\"\n",
      "Score: 0.18295550346374512 \t Topic: 0.030*\"polic\" + 0.029*\"charg\" + 0.026*\"court\" + 0.025*\"death\" + 0.024*\"murder\"\n",
      "Score: 0.01667708344757557 \t Topic: 0.019*\"chang\" + 0.018*\"say\" + 0.015*\"speak\" + 0.015*\"power\" + 0.013*\"worker\"\n",
      "Score: 0.016677051782608032 \t Topic: 0.032*\"govern\" + 0.020*\"warn\" + 0.019*\"feder\" + 0.015*\"countri\" + 0.015*\"fund\"\n",
      "Score: 0.016676224768161774 \t Topic: 0.022*\"south\" + 0.022*\"hous\" + 0.020*\"north\" + 0.016*\"miss\" + 0.015*\"bushfir\"\n",
      "Score: 0.016676224768161774 \t Topic: 0.030*\"kill\" + 0.022*\"shoot\" + 0.019*\"attack\" + 0.019*\"dead\" + 0.019*\"polic\"\n",
      "Score: 0.016676224768161774 \t Topic: 0.057*\"australia\" + 0.046*\"australian\" + 0.027*\"world\" + 0.018*\"canberra\" + 0.017*\"test\"\n",
      "Score: 0.016676224768161774 \t Topic: 0.020*\"donald\" + 0.014*\"nation\" + 0.014*\"farmer\" + 0.013*\"rural\" + 0.013*\"time\"\n",
      "Score: 0.016676224768161774 \t Topic: 0.045*\"trump\" + 0.037*\"year\" + 0.035*\"sydney\" + 0.028*\"queensland\" + 0.022*\"home\"\n"
     ]
    }
   ],
   "source": [
    "unseen_document = 'How a Pentagon deal became an identity crisis for Google'\n",
    "\n",
    "bow_vector = dictionary.doc2bow(preprocess(unseen_document))\n",
    "\n",
    "for index, score in sorted(lda[bow_vector], key =lambda tup: -1*tup[1]):\n",
    "    print('Score: {} \\t Topic: {}'.format(score,lda.print_topic(index,5)))"
   ]
  },
  {
   "cell_type": "code",
   "execution_count": null,
   "metadata": {},
   "outputs": [],
   "source": []
  }
 ],
 "metadata": {
  "kernelspec": {
   "display_name": "Python 3",
   "language": "python",
   "name": "python3"
  },
  "language_info": {
   "codemirror_mode": {
    "name": "ipython",
    "version": 3
   },
   "file_extension": ".py",
   "mimetype": "text/x-python",
   "name": "python",
   "nbconvert_exporter": "python",
   "pygments_lexer": "ipython3",
   "version": "3.7.6"
  }
 },
 "nbformat": 4,
 "nbformat_minor": 4
}
