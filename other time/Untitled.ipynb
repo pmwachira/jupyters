{
 "cells": [
  {
   "cell_type": "code",
   "execution_count": null,
   "metadata": {},
   "outputs": [],
   "source": [
    "def exit_interview():\n",
    "        credentials = '/home/davidlee/airflow/dags/creds/andela-data-analytics-aa479ca081f4.json'\n",
    "\n",
    "        gs = pygsheets.authorize(client_secret=\"/home/davidlee/airflow/dags/creds/client_secret_203647249812-pj53boa61si5vtso0nch1db6gbav9hd5.apps.googleusercontent.com.json\",credentials_directory='/home/davidlee/airflow/dags/python_scripts/')\n",
    "        sh = gs.open(\"Data: EER Hire Needs\")\n",
    "\n",
    "        cleaned_data = sh[1].get_as_df()\n",
    "        cleaned_data.columns = cleaned_data.columns.str.replace(' |/|-|\\?|\\[|\\]|,','_')\n",
    "        cleaned_data = cleaned_data.iloc[:, 0:3]\n",
    "        cleaned_data = cleaned_data[cleaned_data.month.notnull()]\n",
    "        \n",
    "        cleaned_data.to_gbq(destination_table='trip_actions.andela_exit_interview_new',project_id='andela-data-analytics',if_exists='replace',private_key=credentials)\n",
    "        \n",
    "        \n",
    "        \n",
    "        \n",
    "        \n",
    "        \n",
    "        \n",
    "    "
   ]
  }
 ],
 "metadata": {
  "kernelspec": {
   "display_name": "Python 3",
   "language": "python",
   "name": "python3"
  },
  "language_info": {
   "codemirror_mode": {
    "name": "ipython",
    "version": 3
   },
   "file_extension": ".py",
   "mimetype": "text/x-python",
   "name": "python",
   "nbconvert_exporter": "python",
   "pygments_lexer": "ipython3",
   "version": "3.7.3"
  }
 },
 "nbformat": 4,
 "nbformat_minor": 2
}
