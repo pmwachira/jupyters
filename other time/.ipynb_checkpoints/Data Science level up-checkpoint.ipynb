{
 "cells": [
  {
   "cell_type": "code",
   "execution_count": 2,
   "metadata": {},
   "outputs": [],
   "source": [
    "dict={\"uno\":1,\"dos\":2,\"res\":3}\n",
    "\n",
    "\n"
   ]
  },
  {
   "cell_type": "code",
   "execution_count": 3,
   "metadata": {},
   "outputs": [
    {
     "ename": "SyntaxError",
     "evalue": "Missing parentheses in call to 'print'. Did you mean print(dict)? (<ipython-input-3-ad2a0fe8b542>, line 1)",
     "output_type": "error",
     "traceback": [
      "\u001b[0;36m  File \u001b[0;32m\"<ipython-input-3-ad2a0fe8b542>\"\u001b[0;36m, line \u001b[0;32m1\u001b[0m\n\u001b[0;31m    print dict\u001b[0m\n\u001b[0m             ^\u001b[0m\n\u001b[0;31mSyntaxError\u001b[0m\u001b[0;31m:\u001b[0m Missing parentheses in call to 'print'. Did you mean print(dict)?\n"
     ]
    }
   ],
   "source": [
    "print dict"
   ]
  },
  {
   "cell_type": "code",
   "execution_count": null,
   "metadata": {},
   "outputs": [],
   "source": [
    "print(dict)"
   ]
  },
  {
   "cell_type": "code",
   "execution_count": null,
   "metadata": {},
   "outputs": [],
   "source": [
    "dict[\"uno\"]=100\n"
   ]
  },
  {
   "cell_type": "code",
   "execution_count": null,
   "metadata": {},
   "outputs": [],
   "source": [
    "print (dict)"
   ]
  },
  {
   "cell_type": "code",
   "execution_count": null,
   "metadata": {},
   "outputs": [],
   "source": [
    "for i in dict:\n",
    "    print(i)"
   ]
  },
  {
   "cell_type": "code",
   "execution_count": 4,
   "metadata": {},
   "outputs": [],
   "source": [
    "import pandas as pd\n",
    "import numpy as np\n",
    "import matplotlib as plt\n",
    "%matplotlib inline\n",
    "\n",
    "df=pd.read_csv(\"/Users/mushirih/Desktop/stuff/jupyter/Loan-Prediction-Dataset-master/train.csv\")"
   ]
  },
  {
   "cell_type": "code",
   "execution_count": 5,
   "metadata": {},
   "outputs": [
    {
     "data": {
      "text/html": [
       "<div>\n",
       "<style scoped>\n",
       "    .dataframe tbody tr th:only-of-type {\n",
       "        vertical-align: middle;\n",
       "    }\n",
       "\n",
       "    .dataframe tbody tr th {\n",
       "        vertical-align: top;\n",
       "    }\n",
       "\n",
       "    .dataframe thead th {\n",
       "        text-align: right;\n",
       "    }\n",
       "</style>\n",
       "<table border=\"1\" class=\"dataframe\">\n",
       "  <thead>\n",
       "    <tr style=\"text-align: right;\">\n",
       "      <th></th>\n",
       "      <th>Loan_ID</th>\n",
       "      <th>Gender</th>\n",
       "      <th>Married</th>\n",
       "      <th>Dependents</th>\n",
       "      <th>Education</th>\n",
       "      <th>Self_Employed</th>\n",
       "      <th>ApplicantIncome</th>\n",
       "      <th>CoapplicantIncome</th>\n",
       "      <th>LoanAmount</th>\n",
       "      <th>Loan_Amount_Term</th>\n",
       "      <th>Credit_History</th>\n",
       "      <th>Property_Area</th>\n",
       "      <th>Loan_Status</th>\n",
       "    </tr>\n",
       "  </thead>\n",
       "  <tbody>\n",
       "    <tr>\n",
       "      <th>0</th>\n",
       "      <td>LP001002</td>\n",
       "      <td>Male</td>\n",
       "      <td>No</td>\n",
       "      <td>0</td>\n",
       "      <td>Graduate</td>\n",
       "      <td>No</td>\n",
       "      <td>5849</td>\n",
       "      <td>0.0</td>\n",
       "      <td>NaN</td>\n",
       "      <td>360.0</td>\n",
       "      <td>1.0</td>\n",
       "      <td>Urban</td>\n",
       "      <td>Y</td>\n",
       "    </tr>\n",
       "    <tr>\n",
       "      <th>1</th>\n",
       "      <td>LP001003</td>\n",
       "      <td>Male</td>\n",
       "      <td>Yes</td>\n",
       "      <td>1</td>\n",
       "      <td>Graduate</td>\n",
       "      <td>No</td>\n",
       "      <td>4583</td>\n",
       "      <td>1508.0</td>\n",
       "      <td>128.0</td>\n",
       "      <td>360.0</td>\n",
       "      <td>1.0</td>\n",
       "      <td>Rural</td>\n",
       "      <td>N</td>\n",
       "    </tr>\n",
       "    <tr>\n",
       "      <th>2</th>\n",
       "      <td>LP001005</td>\n",
       "      <td>Male</td>\n",
       "      <td>Yes</td>\n",
       "      <td>0</td>\n",
       "      <td>Graduate</td>\n",
       "      <td>Yes</td>\n",
       "      <td>3000</td>\n",
       "      <td>0.0</td>\n",
       "      <td>66.0</td>\n",
       "      <td>360.0</td>\n",
       "      <td>1.0</td>\n",
       "      <td>Urban</td>\n",
       "      <td>Y</td>\n",
       "    </tr>\n",
       "    <tr>\n",
       "      <th>3</th>\n",
       "      <td>LP001006</td>\n",
       "      <td>Male</td>\n",
       "      <td>Yes</td>\n",
       "      <td>0</td>\n",
       "      <td>Not Graduate</td>\n",
       "      <td>No</td>\n",
       "      <td>2583</td>\n",
       "      <td>2358.0</td>\n",
       "      <td>120.0</td>\n",
       "      <td>360.0</td>\n",
       "      <td>1.0</td>\n",
       "      <td>Urban</td>\n",
       "      <td>Y</td>\n",
       "    </tr>\n",
       "    <tr>\n",
       "      <th>4</th>\n",
       "      <td>LP001008</td>\n",
       "      <td>Male</td>\n",
       "      <td>No</td>\n",
       "      <td>0</td>\n",
       "      <td>Graduate</td>\n",
       "      <td>No</td>\n",
       "      <td>6000</td>\n",
       "      <td>0.0</td>\n",
       "      <td>141.0</td>\n",
       "      <td>360.0</td>\n",
       "      <td>1.0</td>\n",
       "      <td>Urban</td>\n",
       "      <td>Y</td>\n",
       "    </tr>\n",
       "  </tbody>\n",
       "</table>\n",
       "</div>"
      ],
      "text/plain": [
       "    Loan_ID Gender Married Dependents     Education Self_Employed  \\\n",
       "0  LP001002   Male      No          0      Graduate            No   \n",
       "1  LP001003   Male     Yes          1      Graduate            No   \n",
       "2  LP001005   Male     Yes          0      Graduate           Yes   \n",
       "3  LP001006   Male     Yes          0  Not Graduate            No   \n",
       "4  LP001008   Male      No          0      Graduate            No   \n",
       "\n",
       "   ApplicantIncome  CoapplicantIncome  LoanAmount  Loan_Amount_Term  \\\n",
       "0             5849                0.0         NaN             360.0   \n",
       "1             4583             1508.0       128.0             360.0   \n",
       "2             3000                0.0        66.0             360.0   \n",
       "3             2583             2358.0       120.0             360.0   \n",
       "4             6000                0.0       141.0             360.0   \n",
       "\n",
       "   Credit_History Property_Area Loan_Status  \n",
       "0             1.0         Urban           Y  \n",
       "1             1.0         Rural           N  \n",
       "2             1.0         Urban           Y  \n",
       "3             1.0         Urban           Y  \n",
       "4             1.0         Urban           Y  "
      ]
     },
     "execution_count": 5,
     "metadata": {},
     "output_type": "execute_result"
    }
   ],
   "source": [
    "df.head()\n"
   ]
  },
  {
   "cell_type": "code",
   "execution_count": 6,
   "metadata": {},
   "outputs": [
    {
     "data": {
      "text/html": [
       "<div>\n",
       "<style scoped>\n",
       "    .dataframe tbody tr th:only-of-type {\n",
       "        vertical-align: middle;\n",
       "    }\n",
       "\n",
       "    .dataframe tbody tr th {\n",
       "        vertical-align: top;\n",
       "    }\n",
       "\n",
       "    .dataframe thead th {\n",
       "        text-align: right;\n",
       "    }\n",
       "</style>\n",
       "<table border=\"1\" class=\"dataframe\">\n",
       "  <thead>\n",
       "    <tr style=\"text-align: right;\">\n",
       "      <th></th>\n",
       "      <th>ApplicantIncome</th>\n",
       "      <th>CoapplicantIncome</th>\n",
       "      <th>LoanAmount</th>\n",
       "      <th>Loan_Amount_Term</th>\n",
       "      <th>Credit_History</th>\n",
       "    </tr>\n",
       "  </thead>\n",
       "  <tbody>\n",
       "    <tr>\n",
       "      <th>count</th>\n",
       "      <td>614.000000</td>\n",
       "      <td>614.000000</td>\n",
       "      <td>592.000000</td>\n",
       "      <td>600.00000</td>\n",
       "      <td>564.000000</td>\n",
       "    </tr>\n",
       "    <tr>\n",
       "      <th>mean</th>\n",
       "      <td>5403.459283</td>\n",
       "      <td>1621.245798</td>\n",
       "      <td>146.412162</td>\n",
       "      <td>342.00000</td>\n",
       "      <td>0.842199</td>\n",
       "    </tr>\n",
       "    <tr>\n",
       "      <th>std</th>\n",
       "      <td>6109.041673</td>\n",
       "      <td>2926.248369</td>\n",
       "      <td>85.587325</td>\n",
       "      <td>65.12041</td>\n",
       "      <td>0.364878</td>\n",
       "    </tr>\n",
       "    <tr>\n",
       "      <th>min</th>\n",
       "      <td>150.000000</td>\n",
       "      <td>0.000000</td>\n",
       "      <td>9.000000</td>\n",
       "      <td>12.00000</td>\n",
       "      <td>0.000000</td>\n",
       "    </tr>\n",
       "    <tr>\n",
       "      <th>25%</th>\n",
       "      <td>2877.500000</td>\n",
       "      <td>0.000000</td>\n",
       "      <td>100.000000</td>\n",
       "      <td>360.00000</td>\n",
       "      <td>1.000000</td>\n",
       "    </tr>\n",
       "    <tr>\n",
       "      <th>50%</th>\n",
       "      <td>3812.500000</td>\n",
       "      <td>1188.500000</td>\n",
       "      <td>128.000000</td>\n",
       "      <td>360.00000</td>\n",
       "      <td>1.000000</td>\n",
       "    </tr>\n",
       "    <tr>\n",
       "      <th>75%</th>\n",
       "      <td>5795.000000</td>\n",
       "      <td>2297.250000</td>\n",
       "      <td>168.000000</td>\n",
       "      <td>360.00000</td>\n",
       "      <td>1.000000</td>\n",
       "    </tr>\n",
       "    <tr>\n",
       "      <th>max</th>\n",
       "      <td>81000.000000</td>\n",
       "      <td>41667.000000</td>\n",
       "      <td>700.000000</td>\n",
       "      <td>480.00000</td>\n",
       "      <td>1.000000</td>\n",
       "    </tr>\n",
       "  </tbody>\n",
       "</table>\n",
       "</div>"
      ],
      "text/plain": [
       "       ApplicantIncome  CoapplicantIncome  LoanAmount  Loan_Amount_Term  \\\n",
       "count       614.000000         614.000000  592.000000         600.00000   \n",
       "mean       5403.459283        1621.245798  146.412162         342.00000   \n",
       "std        6109.041673        2926.248369   85.587325          65.12041   \n",
       "min         150.000000           0.000000    9.000000          12.00000   \n",
       "25%        2877.500000           0.000000  100.000000         360.00000   \n",
       "50%        3812.500000        1188.500000  128.000000         360.00000   \n",
       "75%        5795.000000        2297.250000  168.000000         360.00000   \n",
       "max       81000.000000       41667.000000  700.000000         480.00000   \n",
       "\n",
       "       Credit_History  \n",
       "count      564.000000  \n",
       "mean         0.842199  \n",
       "std          0.364878  \n",
       "min          0.000000  \n",
       "25%          1.000000  \n",
       "50%          1.000000  \n",
       "75%          1.000000  \n",
       "max          1.000000  "
      ]
     },
     "execution_count": 6,
     "metadata": {},
     "output_type": "execute_result"
    }
   ],
   "source": [
    "df.describe()"
   ]
  },
  {
   "cell_type": "code",
   "execution_count": 7,
   "metadata": {},
   "outputs": [
    {
     "data": {
      "text/plain": [
       "Semiurban    233\n",
       "Urban        202\n",
       "Rural        179\n",
       "Name: Property_Area, dtype: int64"
      ]
     },
     "execution_count": 7,
     "metadata": {},
     "output_type": "execute_result"
    }
   ],
   "source": [
    "df['Property_Area'].value_counts()"
   ]
  },
  {
   "cell_type": "code",
   "execution_count": 8,
   "metadata": {},
   "outputs": [
    {
     "data": {
      "text/plain": [
       "1.0    475\n",
       "0.0     89\n",
       "Name: Credit_History, dtype: int64"
      ]
     },
     "execution_count": 8,
     "metadata": {},
     "output_type": "execute_result"
    }
   ],
   "source": [
    "df['Credit_History'].value_counts()\n"
   ]
  },
  {
   "cell_type": "code",
   "execution_count": 9,
   "metadata": {},
   "outputs": [
    {
     "data": {
      "text/plain": [
       "<matplotlib.axes._subplots.AxesSubplot at 0x11cbcd7b8>"
      ]
     },
     "execution_count": 9,
     "metadata": {},
     "output_type": "execute_result"
    },
    {
     "data": {
      "image/png": "[encoded data removed]",
      "text/plain": [
       "<Figure size 432x288 with 1 Axes>"
      ]
     },
     "metadata": {
      "needs_background": "light"
     },
     "output_type": "display_data"
    }
   ],
   "source": [
    "df['ApplicantIncome'].hist(bins=50)"
   ]
  },
  {
   "cell_type": "code",
   "execution_count": 10,
   "metadata": {},
   "outputs": [
    {
     "data": {
      "text/plain": [
       "<matplotlib.axes._subplots.AxesSubplot at 0x11cf32278>"
      ]
     },
     "execution_count": 10,
     "metadata": {},
     "output_type": "execute_result"
    },
    {
     "data": {
      "image/png": "[encoded data removed]",
      "text/plain": [
       "<Figure size 432x288 with 1 Axes>"
      ]
     },
     "metadata": {
      "needs_background": "light"
     },
     "output_type": "display_data"
    }
   ],
   "source": [
    "df.boxplot(column=\"ApplicantIncome\")"
   ]
  },
  {
   "cell_type": "code",
   "execution_count": 11,
   "metadata": {},
   "outputs": [
    {
     "data": {
      "text/plain": [
       "<matplotlib.axes._subplots.AxesSubplot at 0x11cfbab70>"
      ]
     },
     "execution_count": 11,
     "metadata": {},
     "output_type": "execute_result"
    },
    {
     "data": {
      "image/png": "[encoded data removed]",
      "text/plain": [
       "<Figure size 432x288 with 1 Axes>"
      ]
     },
     "metadata": {
      "needs_background": "light"
     },
     "output_type": "display_data"
    }
   ],
   "source": [
    "df.boxplot(column=\"ApplicantIncome\", by=\"Education\")"
   ]
  },
  {
   "cell_type": "code",
   "execution_count": 12,
   "metadata": {},
   "outputs": [
    {
     "data": {
      "text/plain": [
       "<matplotlib.axes._subplots.AxesSubplot at 0x11d05ecc0>"
      ]
     },
     "execution_count": 12,
     "metadata": {},
     "output_type": "execute_result"
    },
    {
     "data": {
      "image/png": "[encoded data removed]",
      "text/plain": [
       "<Figure size 432x288 with 1 Axes>"
      ]
     },
     "metadata": {
      "needs_background": "light"
     },
     "output_type": "display_data"
    }
   ],
   "source": [
    "df[\"LoanAmount\"].hist(bins=50)"
   ]
  },
  {
   "cell_type": "code",
   "execution_count": 13,
   "metadata": {},
   "outputs": [
    {
     "data": {
      "text/plain": [
       "<matplotlib.axes._subplots.AxesSubplot at 0x11d12ddd8>"
      ]
     },
     "execution_count": 13,
     "metadata": {},
     "output_type": "execute_result"
    },
    {
     "data": {
      "image/png": "[encoded data removed]",
      "text/plain": [
       "<Figure size 432x288 with 1 Axes>"
      ]
     },
     "metadata": {
      "needs_background": "light"
     },
     "output_type": "display_data"
    }
   ],
   "source": [
    "df.boxplot(column=\"LoanAmount\")"
   ]
  },
  {
   "cell_type": "code",
   "execution_count": 14,
   "metadata": {},
   "outputs": [
    {
     "name": "stdout",
     "output_type": "stream",
     "text": [
      "Frequency Table for credit history\n",
      "0.0     89\n",
      "1.0    475\n",
      "Name: Credit_History, dtype: int64\n",
      "\n",
      " Probability of getting a loan in each credit history class\n",
      "                Loan_Status\n",
      "Credit_History             \n",
      "0.0                0.078652\n",
      "1.0                0.795789\n"
     ]
    }
   ],
   "source": [
    "temp1 = df[\"Credit_History\"].value_counts(ascending=True)\n",
    "temp2=df.pivot_table(values=\"Loan_Status\",index=['Credit_History'],aggfunc=lambda x:x.map({'Y':1,'N':0}).mean())\n",
    "print('Frequency Table for credit history')\n",
    "print(temp1)\n",
    "\n",
    "print(\"\\n Probability of getting a loan in each credit history class\")\n",
    "print (temp2)"
   ]
  },
  {
   "cell_type": "code",
   "execution_count": 15,
   "metadata": {},
   "outputs": [
    {
     "data": {
      "text/plain": [
       "Text(0.5, 1.0, 'Probability of getting loan by credit history')"
      ]
     },
     "execution_count": 15,
     "metadata": {},
     "output_type": "execute_result"
    },
    {
     "data": {
      "image/png": "[encoded data removed]",
      "text/plain": [
       "<Figure size 576x288 with 2 Axes>"
      ]
     },
     "metadata": {
      "needs_background": "light"
     },
     "output_type": "display_data"
    },
    {
     "data": {
      "image/png": "[encoded data removed]",
      "text/plain": [
       "<Figure size 432x288 with 1 Axes>"
      ]
     },
     "metadata": {
      "needs_background": "light"
     },
     "output_type": "display_data"
    }
   ],
   "source": [
    "import matplotlib.pyplot as plt\n",
    "\n",
    "fig = plt.figure(figsize=(8,4))\n",
    "ax1=fig.add_subplot(121)\n",
    "ax1.set_xlabel('Credit History')\n",
    "ax1.set_ylabel('Count of applicants')\n",
    "ax1.set_title(\"Applicants by credit history\")\n",
    "temp1.plot(kind='bar')\n",
    "\n",
    "ax2=fig.add_subplot(122)\n",
    "temp2.plot(kind='bar')\n",
    "ax2.set_xlabel('Credit History')\n",
    "ax2.set_ylabel(\"Probability of getting a loan\")\n",
    "ax2.set_title(\"Probability of getting loan by credit history\")"
   ]
  },
  {
   "cell_type": "code",
   "execution_count": 16,
   "metadata": {},
   "outputs": [
    {
     "data": {
      "text/plain": [
       "<matplotlib.axes._subplots.AxesSubplot at 0x11d386278>"
      ]
     },
     "execution_count": 16,
     "metadata": {},
     "output_type": "execute_result"
    },
    {
     "data": {
      "image/png": "[encoded data removed]",
      "text/plain": [
       "<Figure size 432x288 with 1 Axes>"
      ]
     },
     "metadata": {
      "needs_background": "light"
     },
     "output_type": "display_data"
    }
   ],
   "source": [
    "temp3 = pd.crosstab(df['Credit_History'],df['Loan_Status'])\n",
    "temp3.plot(kind='bar', stacked=True, color=['red','blue'])"
   ]
  },
  {
   "cell_type": "code",
   "execution_count": 17,
   "metadata": {},
   "outputs": [
    {
     "data": {
      "text/plain": [
       "Loan_ID               0\n",
       "Gender               13\n",
       "Married               3\n",
       "Dependents           15\n",
       "Education             0\n",
       "Self_Employed        32\n",
       "ApplicantIncome       0\n",
       "CoapplicantIncome     0\n",
       "LoanAmount           22\n",
       "Loan_Amount_Term     14\n",
       "Credit_History       50\n",
       "Property_Area         0\n",
       "Loan_Status           0\n",
       "dtype: int64"
      ]
     },
     "execution_count": 17,
     "metadata": {},
     "output_type": "execute_result"
    }
   ],
   "source": [
    "df.apply(lambda x: sum(x.isnull()),axis=0)"
   ]
  },
  {
   "cell_type": "code",
   "execution_count": 18,
   "metadata": {},
   "outputs": [],
   "source": [
    "df['LoanAmount'].fillna(df['LoanAmount'].mean(),inplace=True)"
   ]
  },
  {
   "cell_type": "code",
   "execution_count": 19,
   "metadata": {},
   "outputs": [],
   "source": [
    "df['Self_Employed'].fillna('No',inplace=True)"
   ]
  },
  {
   "cell_type": "code",
   "execution_count": 20,
   "metadata": {},
   "outputs": [
    {
     "ename": "TypeError",
     "evalue": "\"value\" parameter must be a scalar, dict or Series, but you passed a \"DataFrame\"",
     "output_type": "error",
     "traceback": [
      "\u001b[0;31m---------------------------------------------------------------------------\u001b[0m",
      "\u001b[0;31mTypeError\u001b[0m                                 Traceback (most recent call last)",
      "\u001b[0;32m<ipython-input-20-dee8f5b35549>\u001b[0m in \u001b[0;36m<module>\u001b[0;34m\u001b[0m\n\u001b[1;32m      4\u001b[0m     \u001b[0;32mreturn\u001b[0m \u001b[0mtable\u001b[0m\u001b[0;34m.\u001b[0m\u001b[0mloc\u001b[0m\u001b[0;34m[\u001b[0m\u001b[0mx\u001b[0m\u001b[0;34m[\u001b[0m\u001b[0;34m'Self_Employed'\u001b[0m\u001b[0;34m]\u001b[0m\u001b[0;34m,\u001b[0m\u001b[0mx\u001b[0m\u001b[0;34m[\u001b[0m\u001b[0;34m'Education'\u001b[0m\u001b[0;34m]\u001b[0m\u001b[0;34m]\u001b[0m\u001b[0;34m\u001b[0m\u001b[0;34m\u001b[0m\u001b[0m\n\u001b[1;32m      5\u001b[0m \u001b[0;34m\u001b[0m\u001b[0m\n\u001b[0;32m----> 6\u001b[0;31m \u001b[0mdf\u001b[0m\u001b[0;34m[\u001b[0m\u001b[0;34m'LoanAmount'\u001b[0m\u001b[0;34m]\u001b[0m\u001b[0;34m.\u001b[0m\u001b[0mfillna\u001b[0m\u001b[0;34m(\u001b[0m\u001b[0mdf\u001b[0m\u001b[0;34m[\u001b[0m\u001b[0mdf\u001b[0m\u001b[0;34m[\u001b[0m\u001b[0;34m'LoanAmount'\u001b[0m\u001b[0;34m]\u001b[0m\u001b[0;34m.\u001b[0m\u001b[0misnull\u001b[0m\u001b[0;34m(\u001b[0m\u001b[0;34m)\u001b[0m\u001b[0;34m]\u001b[0m\u001b[0;34m.\u001b[0m\u001b[0mapply\u001b[0m\u001b[0;34m(\u001b[0m\u001b[0mfage\u001b[0m\u001b[0;34m,\u001b[0m\u001b[0maxis\u001b[0m\u001b[0;34m=\u001b[0m\u001b[0;36m1\u001b[0m\u001b[0;34m)\u001b[0m\u001b[0;34m,\u001b[0m\u001b[0minplace\u001b[0m\u001b[0;34m=\u001b[0m\u001b[0;32mTrue\u001b[0m\u001b[0;34m)\u001b[0m\u001b[0;34m\u001b[0m\u001b[0;34m\u001b[0m\u001b[0m\n\u001b[0m",
      "\u001b[0;32m/anaconda3/lib/python3.7/site-packages/pandas/core/series.py\u001b[0m in \u001b[0;36mfillna\u001b[0;34m(self, value, method, axis, inplace, limit, downcast, **kwargs)\u001b[0m\n\u001b[1;32m   3836\u001b[0m                                           \u001b[0maxis\u001b[0m\u001b[0;34m=\u001b[0m\u001b[0maxis\u001b[0m\u001b[0;34m,\u001b[0m \u001b[0minplace\u001b[0m\u001b[0;34m=\u001b[0m\u001b[0minplace\u001b[0m\u001b[0;34m,\u001b[0m\u001b[0;34m\u001b[0m\u001b[0;34m\u001b[0m\u001b[0m\n\u001b[1;32m   3837\u001b[0m                                           \u001b[0mlimit\u001b[0m\u001b[0;34m=\u001b[0m\u001b[0mlimit\u001b[0m\u001b[0;34m,\u001b[0m \u001b[0mdowncast\u001b[0m\u001b[0;34m=\u001b[0m\u001b[0mdowncast\u001b[0m\u001b[0;34m,\u001b[0m\u001b[0;34m\u001b[0m\u001b[0;34m\u001b[0m\u001b[0m\n\u001b[0;32m-> 3838\u001b[0;31m                                           **kwargs)\n\u001b[0m\u001b[1;32m   3839\u001b[0m \u001b[0;34m\u001b[0m\u001b[0m\n\u001b[1;32m   3840\u001b[0m     \u001b[0;34m@\u001b[0m\u001b[0mAppender\u001b[0m\u001b[0;34m(\u001b[0m\u001b[0mgeneric\u001b[0m\u001b[0;34m.\u001b[0m\u001b[0m_shared_docs\u001b[0m\u001b[0;34m[\u001b[0m\u001b[0;34m'replace'\u001b[0m\u001b[0;34m]\u001b[0m \u001b[0;34m%\u001b[0m \u001b[0m_shared_doc_kwargs\u001b[0m\u001b[0;34m)\u001b[0m\u001b[0;34m\u001b[0m\u001b[0;34m\u001b[0m\u001b[0m\n",
      "\u001b[0;32m/anaconda3/lib/python3.7/site-packages/pandas/core/generic.py\u001b[0m in \u001b[0;36mfillna\u001b[0;34m(self, value, method, axis, inplace, limit, downcast)\u001b[0m\n\u001b[1;32m   6098\u001b[0m                     raise TypeError('\"value\" parameter must be a scalar, dict '\n\u001b[1;32m   6099\u001b[0m                                     \u001b[0;34m'or Series, but you passed a '\u001b[0m\u001b[0;34m\u001b[0m\u001b[0;34m\u001b[0m\u001b[0m\n\u001b[0;32m-> 6100\u001b[0;31m                                     '\"{0}\"'.format(type(value).__name__))\n\u001b[0m\u001b[1;32m   6101\u001b[0m \u001b[0;34m\u001b[0m\u001b[0m\n\u001b[1;32m   6102\u001b[0m                 new_data = self._data.fillna(value=value, limit=limit,\n",
      "\u001b[0;31mTypeError\u001b[0m: \"value\" parameter must be a scalar, dict or Series, but you passed a \"DataFrame\""
     ]
    }
   ],
   "source": [
    "table = df.pivot_table(values=\"LoanAmount\", index=\"Self_Employed\",columns=\"Education\",aggfunc=np.median)\n",
    "\n",
    "def fage(x):\n",
    "    return table.loc[x['Self_Employed'],x['Education']]\n",
    "\n",
    "df['LoanAmount'].fillna(df[df['LoanAmount'].isnull()].apply(fage,axis=1),inplace=True)"
   ]
  },
  {
   "cell_type": "code",
   "execution_count": null,
   "metadata": {},
   "outputs": [],
   "source": [
    "df['LoanAmount_log']=np.log(df['LoanAmount'])\n",
    "df['LoanAmount_log'].hist(bins=20)"
   ]
  },
  {
   "cell_type": "code",
   "execution_count": null,
   "metadata": {},
   "outputs": [],
   "source": [
    "df['TotalIncome']= df['ApplicantIncome']+df['CoapplicantIncome']\n",
    "df['TotalIncome_log']=np.log(df['TotalIncome'])\n",
    "df['LoanAmount_log'].hist(bins=20)"
   ]
  },
  {
   "cell_type": "code",
   "execution_count": null,
   "metadata": {},
   "outputs": [],
   "source": [
    "df['Gender'].fillna(df['Gender'].mode()[0],inplace=True)\n",
    "df['Married'].fillna(df['Married'].mode()[0],inplace=True)\n",
    "df['Dependents'].fillna(df['Dependents'].mode()[0],inplace=True)\n",
    "df['Loan_Amount_Term'].fillna(df['Loan_Amount_Term'].mode()[0],inplace=True)\n",
    "df['Credit_History'].fillna(df['Credit_History'].mode()[0],inplace=True)"
   ]
  },
  {
   "cell_type": "code",
   "execution_count": null,
   "metadata": {},
   "outputs": [],
   "source": [
    "from sklearn.preprocessing import LabelEncoder\n",
    "\n",
    "var_mod=['Gender','Married','Dependents','Education','Self_Employed','Property_Area','Loan_Status']\n",
    "le= LabelEncoder()\n",
    "for i in var_mod:\n",
    "    df[i]=le.fit_transform(df[i])\n",
    "    \n",
    "df.dtypes"
   ]
  },
  {
   "cell_type": "code",
   "execution_count": null,
   "metadata": {},
   "outputs": [],
   "source": [
    "from sklearn.linear_model import LogisticRegression\n",
    "from sklearn.model_selection import KFold\n",
    "from sklearn.ensemble import RandomForestClassifier\n",
    "from sklearn.tree import DecisionTreeClassifier, export_graphviz\n",
    "from sklearn import metrics\n",
    "\n",
    "\n",
    "def classification_model(model, data, predictors, outcome):\n",
    "    model.fit(data[predictors],data[outcome])\n",
    "    \n",
    "    predictions = model.predict(data[predictors])\n",
    "    \n",
    "    accuracy=metrics.accuracy_score(predictions,data[outcome])\n",
    "    print(\"Accuracy: %s\" %\"{0:.3%}\".format(accuracy))\n",
    "          \n",
    "    kf = KFold()\n",
    "    error=[]\n",
    "    \n",
    "    for train, test in kf.split(data):\n",
    "        train_predictors =(data[predictors].iloc[train,:])\n",
    "        \n",
    "        train_target = data[outcome].iloc[train]\n",
    "        \n",
    "        model.fit(train_predictors, train_target)\n",
    "        \n",
    "        error.append(model.score(data[predictors].iloc[test,:],data[outcome].iloc[test]))\n",
    "        \n",
    "    print (\"Cross validation score: %s\" % \"{0:.3%}\".format(np.mean(error)))\n",
    "\n",
    "    model.fit(data[predictors, data[outcome]])\n",
    "          "
   ]
  },
  {
   "cell_type": "code",
   "execution_count": null,
   "metadata": {},
   "outputs": [],
   "source": [
    "# Logistic regression\n",
    "\n",
    "outcome_var = 'Loan_Status'\n",
    "model = LogisticRegression()\n",
    "predictor_var=['Credit_History']\n",
    "classification_model(model, df,predictor_var, outcome_var)\n",
    "\n",
    "\n",
    "\n",
    "\n",
    "\n",
    "\n",
    "\n"
   ]
  },
  {
   "cell_type": "code",
   "execution_count": null,
   "metadata": {},
   "outputs": [],
   "source": [
    "# Decision tree\n",
    "\n",
    "model = DecisionTreeClassifier()\n",
    "\n",
    "predictor_var = ['Credit_History','Gender','Married','Education']\n",
    "\n",
    "classification_model(model, df, predictor_var, outcome_var)"
   ]
  },
  {
   "cell_type": "code",
   "execution_count": null,
   "metadata": {},
   "outputs": [],
   "source": [
    "predictor_var = ['Credit_History','Loan_Amount_Term','LoanAmount_log']\n",
    "classification_model(model, df, predictor_var, outcome_var)"
   ]
  },
  {
   "cell_type": "code",
   "execution_count": null,
   "metadata": {},
   "outputs": [],
   "source": [
    "# Random Forest\n",
    "\n",
    "model = RandomForestClassifier(n_estimators=100)\n",
    "predictor_var=[\"Gender\",\"Married\",\"Dependents\",\"Education\",\"Self_Employed\",\"Loan_Amount_Term\",\"Credit_History\",\"Property_Area\",\"LoanAmount_log\",\"TotalIncome_log\"]\n",
    "classification_model(model, df, predictor_var, outcome_var)"
   ]
  },
  {
   "cell_type": "code",
   "execution_count": null,
   "metadata": {},
   "outputs": [],
   "source": [
    "feature_importance = pd. Series(model.feature_importances_, index= predictor_var).sort_values(ascending=False)\n",
    "print(feature_importance)"
   ]
  },
  {
   "cell_type": "code",
   "execution_count": null,
   "metadata": {},
   "outputs": [],
   "source": [
    "# Random Forest top 5 features\n",
    "\n",
    "model = RandomForestClassifier(n_estimators=25, min_samples_split=25, max_depth=7, max_features=1)\n",
    "predictor_var=[\"Dependents\",\"Credit_History\",\"Property_Area\",\"LoanAmount_log\",\"TotalIncome_log\"]\n",
    "classification_model(model, df, predictor_var, outcome_var)"
   ]
  },
  {
   "cell_type": "code",
   "execution_count": 22,
   "metadata": {},
   "outputs": [
    {
     "name": "stdout",
     "output_type": "stream",
     "text": [
      "      Loan_ID  Gender Married Dependents     Education Self_Employed  \\\n",
      "0    LP001002    Male      No          0      Graduate            No   \n",
      "1    LP001003    Male     Yes          1      Graduate            No   \n",
      "2    LP001005    Male     Yes          0      Graduate           Yes   \n",
      "3    LP001006    Male     Yes          0  Not Graduate            No   \n",
      "4    LP001008    Male      No          0      Graduate            No   \n",
      "5    LP001011    Male     Yes          2      Graduate           Yes   \n",
      "6    LP001013    Male     Yes          0  Not Graduate            No   \n",
      "7    LP001014    Male     Yes         3+      Graduate            No   \n",
      "8    LP001018    Male     Yes          2      Graduate            No   \n",
      "9    LP001020    Male     Yes          1      Graduate            No   \n",
      "10   LP001024    Male     Yes          2      Graduate            No   \n",
      "11   LP001027    Male     Yes          2      Graduate            No   \n",
      "12   LP001028    Male     Yes          2      Graduate            No   \n",
      "13   LP001029    Male      No          0      Graduate            No   \n",
      "14   LP001030    Male     Yes          2      Graduate            No   \n",
      "15   LP001032    Male      No          0      Graduate            No   \n",
      "16   LP001034    Male      No          1  Not Graduate            No   \n",
      "17   LP001036  Female      No          0      Graduate            No   \n",
      "18   LP001038    Male     Yes          0  Not Graduate            No   \n",
      "19   LP001041    Male     Yes          0      Graduate            No   \n",
      "20   LP001043    Male     Yes          0  Not Graduate            No   \n",
      "21   LP001046    Male     Yes          1      Graduate            No   \n",
      "22   LP001047    Male     Yes          0  Not Graduate            No   \n",
      "23   LP001050     NaN     Yes          2  Not Graduate            No   \n",
      "24   LP001052    Male     Yes          1      Graduate            No   \n",
      "25   LP001066    Male     Yes          0      Graduate           Yes   \n",
      "26   LP001068    Male     Yes          0      Graduate            No   \n",
      "27   LP001073    Male     Yes          2  Not Graduate            No   \n",
      "28   LP001086    Male      No          0  Not Graduate            No   \n",
      "29   LP001087  Female      No          2      Graduate            No   \n",
      "..        ...     ...     ...        ...           ...           ...   \n",
      "584  LP002911    Male     Yes          1      Graduate            No   \n",
      "585  LP002912    Male     Yes          1      Graduate            No   \n",
      "586  LP002916    Male     Yes          0      Graduate            No   \n",
      "587  LP002917  Female      No          0  Not Graduate            No   \n",
      "588  LP002925     NaN      No          0      Graduate            No   \n",
      "589  LP002926    Male     Yes          2      Graduate           Yes   \n",
      "590  LP002928    Male     Yes          0      Graduate            No   \n",
      "591  LP002931    Male     Yes          2      Graduate           Yes   \n",
      "592  LP002933     NaN      No         3+      Graduate           Yes   \n",
      "593  LP002936    Male     Yes          0      Graduate            No   \n",
      "594  LP002938    Male     Yes          0      Graduate           Yes   \n",
      "595  LP002940    Male      No          0  Not Graduate            No   \n",
      "596  LP002941    Male     Yes          2  Not Graduate           Yes   \n",
      "597  LP002943    Male      No        NaN      Graduate            No   \n",
      "598  LP002945    Male     Yes          0      Graduate           Yes   \n",
      "599  LP002948    Male     Yes          2      Graduate            No   \n",
      "600  LP002949  Female      No         3+      Graduate            No   \n",
      "601  LP002950    Male     Yes          0  Not Graduate            No   \n",
      "602  LP002953    Male     Yes         3+      Graduate            No   \n",
      "603  LP002958    Male      No          0      Graduate            No   \n",
      "604  LP002959  Female     Yes          1      Graduate            No   \n",
      "605  LP002960    Male     Yes          0  Not Graduate            No   \n",
      "606  LP002961    Male     Yes          1      Graduate            No   \n",
      "607  LP002964    Male     Yes          2  Not Graduate            No   \n",
      "608  LP002974    Male     Yes          0      Graduate            No   \n",
      "609  LP002978  Female      No          0      Graduate            No   \n",
      "610  LP002979    Male     Yes         3+      Graduate            No   \n",
      "611  LP002983    Male     Yes          1      Graduate            No   \n",
      "612  LP002984    Male     Yes          2      Graduate            No   \n",
      "613  LP002990  Female      No          0      Graduate           Yes   \n",
      "\n",
      "     ApplicantIncome  CoapplicantIncome  LoanAmount  Loan_Amount_Term  \\\n",
      "0               5849                0.0  146.412162             360.0   \n",
      "1               4583             1508.0  128.000000             360.0   \n",
      "2               3000                0.0   66.000000             360.0   \n",
      "3               2583             2358.0  120.000000             360.0   \n",
      "4               6000                0.0  141.000000             360.0   \n",
      "5               5417             4196.0  267.000000             360.0   \n",
      "6               2333             1516.0   95.000000             360.0   \n",
      "7               3036             2504.0  158.000000             360.0   \n",
      "8               4006             1526.0  168.000000             360.0   \n",
      "9              12841            10968.0  349.000000             360.0   \n",
      "10              3200              700.0   70.000000             360.0   \n",
      "11              2500             1840.0  109.000000             360.0   \n",
      "12              3073             8106.0  200.000000             360.0   \n",
      "13              1853             2840.0  114.000000             360.0   \n",
      "14              1299             1086.0   17.000000             120.0   \n",
      "15              4950                0.0  125.000000             360.0   \n",
      "16              3596                0.0  100.000000             240.0   \n",
      "17              3510                0.0   76.000000             360.0   \n",
      "18              4887                0.0  133.000000             360.0   \n",
      "19              2600             3500.0  115.000000               NaN   \n",
      "20              7660                0.0  104.000000             360.0   \n",
      "21              5955             5625.0  315.000000             360.0   \n",
      "22              2600             1911.0  116.000000             360.0   \n",
      "23              3365             1917.0  112.000000             360.0   \n",
      "24              3717             2925.0  151.000000             360.0   \n",
      "25              9560                0.0  191.000000             360.0   \n",
      "26              2799             2253.0  122.000000             360.0   \n",
      "27              4226             1040.0  110.000000             360.0   \n",
      "28              1442                0.0   35.000000             360.0   \n",
      "29              3750             2083.0  120.000000             360.0   \n",
      "..               ...                ...         ...               ...   \n",
      "584             2787             1917.0  146.000000             360.0   \n",
      "585             4283             3000.0  172.000000              84.0   \n",
      "586             2297             1522.0  104.000000             360.0   \n",
      "587             2165                0.0   70.000000             360.0   \n",
      "588             4750                0.0   94.000000             360.0   \n",
      "589             2726                0.0  106.000000             360.0   \n",
      "590             3000             3416.0   56.000000             180.0   \n",
      "591             6000                0.0  205.000000             240.0   \n",
      "592             9357                0.0  292.000000             360.0   \n",
      "593             3859             3300.0  142.000000             180.0   \n",
      "594            16120                0.0  260.000000             360.0   \n",
      "595             3833                0.0  110.000000             360.0   \n",
      "596             6383             1000.0  187.000000             360.0   \n",
      "597             2987                0.0   88.000000             360.0   \n",
      "598             9963                0.0  180.000000             360.0   \n",
      "599             5780                0.0  192.000000             360.0   \n",
      "600              416            41667.0  350.000000             180.0   \n",
      "601             2894             2792.0  155.000000             360.0   \n",
      "602             5703                0.0  128.000000             360.0   \n",
      "603             3676             4301.0  172.000000             360.0   \n",
      "604            12000                0.0  496.000000             360.0   \n",
      "605             2400             3800.0  146.412162             180.0   \n",
      "606             3400             2500.0  173.000000             360.0   \n",
      "607             3987             1411.0  157.000000             360.0   \n",
      "608             3232             1950.0  108.000000             360.0   \n",
      "609             2900                0.0   71.000000             360.0   \n",
      "610             4106                0.0   40.000000             180.0   \n",
      "611             8072              240.0  253.000000             360.0   \n",
      "612             7583                0.0  187.000000             360.0   \n",
      "613             4583                0.0  133.000000             360.0   \n",
      "\n",
      "     Credit_History Property_Area Loan_Status  \n",
      "0               1.0         Urban           Y  \n",
      "1               1.0         Rural           N  \n",
      "2               1.0         Urban           Y  \n",
      "3               1.0         Urban           Y  \n",
      "4               1.0         Urban           Y  \n",
      "5               1.0         Urban           Y  \n",
      "6               1.0         Urban           Y  \n",
      "7               0.0     Semiurban           N  \n",
      "8               1.0         Urban           Y  \n",
      "9               1.0     Semiurban           N  \n",
      "10              1.0         Urban           Y  \n",
      "11              1.0         Urban           Y  \n",
      "12              1.0         Urban           Y  \n",
      "13              1.0         Rural           N  \n",
      "14              1.0         Urban           Y  \n",
      "15              1.0         Urban           Y  \n",
      "16              NaN         Urban           Y  \n",
      "17              0.0         Urban           N  \n",
      "18              1.0         Rural           N  \n",
      "19              1.0         Urban           Y  \n",
      "20              0.0         Urban           N  \n",
      "21              1.0         Urban           Y  \n",
      "22              0.0     Semiurban           N  \n",
      "23              0.0         Rural           N  \n",
      "24              NaN     Semiurban           N  \n",
      "25              1.0     Semiurban           Y  \n",
      "26              1.0     Semiurban           Y  \n",
      "27              1.0         Urban           Y  \n",
      "28              1.0         Urban           N  \n",
      "29              1.0     Semiurban           Y  \n",
      "..              ...           ...         ...  \n",
      "584             0.0         Rural           N  \n",
      "585             1.0         Rural           N  \n",
      "586             1.0         Urban           Y  \n",
      "587             1.0     Semiurban           Y  \n",
      "588             1.0     Semiurban           Y  \n",
      "589             0.0     Semiurban           N  \n",
      "590             1.0     Semiurban           Y  \n",
      "591             1.0     Semiurban           N  \n",
      "592             1.0     Semiurban           Y  \n",
      "593             1.0         Rural           Y  \n",
      "594             1.0         Urban           Y  \n",
      "595             1.0         Rural           Y  \n",
      "596             1.0         Rural           N  \n",
      "597             0.0     Semiurban           N  \n",
      "598             1.0         Rural           Y  \n",
      "599             1.0         Urban           Y  \n",
      "600             NaN         Urban           N  \n",
      "601             1.0         Rural           Y  \n",
      "602             1.0         Urban           Y  \n",
      "603             1.0         Rural           Y  \n",
      "604             1.0     Semiurban           Y  \n",
      "605             1.0         Urban           N  \n",
      "606             1.0     Semiurban           Y  \n",
      "607             1.0         Rural           Y  \n",
      "608             1.0         Rural           Y  \n",
      "609             1.0         Rural           Y  \n",
      "610             1.0         Rural           Y  \n",
      "611             1.0         Urban           Y  \n",
      "612             1.0         Urban           Y  \n",
      "613             0.0     Semiurban           N  \n",
      "\n",
      "[614 rows x 13 columns]\n"
     ]
    }
   ],
   "source": [
    "print (df)\n"
   ]
  },
  {
   "cell_type": "code",
   "execution_count": null,
   "metadata": {},
   "outputs": [],
   "source": [
    "print(pd.crosstab(['Gender'],['Married']))"
   ]
  }
 ],
 "metadata": {
  "kernelspec": {
   "display_name": "Python 3",
   "language": "python",
   "name": "python3"
  },
  "language_info": {
   "codemirror_mode": {
    "name": "ipython",
    "version": 3
   },
   "file_extension": ".py",
   "mimetype": "text/x-python",
   "name": "python",
   "nbconvert_exporter": "python",
   "pygments_lexer": "ipython3",
   "version": "3.7.3"
  }
 },
 "nbformat": 4,
 "nbformat_minor": 2
}
