{
 "cells": [
  {
   "cell_type": "code",
   "execution_count": 9,
   "metadata": {},
   "outputs": [],
   "source": [
    "import nltk\n",
    "from nltk.stem import WordNetLemmatizer\n",
    "import pickle\n",
    "import numpy as np\n",
    "from keras.models import load_model\n",
    "import json\n",
    "import random\n",
    "import tkinter\n",
    "from tkinter import *\n"
   ]
  },
  {
   "cell_type": "code",
   "execution_count": 10,
   "metadata": {},
   "outputs": [],
   "source": [
    "def clean_up_sentence(sentence):\n",
    "    lemmatizer = WordNetLemmatizer()\n",
    "    sentence_words = nltk.word_tokenize(sentence)\n",
    "    sentence_words = [lemmatizer.lemmatize(word.lower()) for word in sentence_words]\n",
    "    return sentence_words"
   ]
  },
  {
   "cell_type": "code",
   "execution_count": 11,
   "metadata": {},
   "outputs": [],
   "source": [
    "def getResponse(ints, intents_json):\n",
    "    tag = ints[0]['intent']\n",
    "    list_of_intents = intents_json['intents']\n",
    "   \n",
    "    for i in list_of_intents:\n",
    "        if(i['tag']== tag):\n",
    "            result = random.choice(i['responses'])\n",
    "            break\n",
    "    return result\n",
    "\n",
    "\n"
   ]
  },
  {
   "cell_type": "code",
   "execution_count": 12,
   "metadata": {},
   "outputs": [],
   "source": [
    "def bow(sentence, words, show_details=True):\n",
    "    sentence_words=clean_up_sentence(sentence)\n",
    "\n",
    "    bag = [0]*len(words)\n",
    "    for s in sentence_words:\n",
    "        for i,w in enumerate(words):\n",
    "            if w == s:\n",
    "                bag[i]=1\n",
    "                if show_details:\n",
    "                    print(\"Found in bag: %s\" %w)\n",
    "            \n",
    "    return np.array(bag)\n",
    "    "
   ]
  },
  {
   "cell_type": "code",
   "execution_count": 13,
   "metadata": {},
   "outputs": [],
   "source": [
    "def predict_class(sentence):\n",
    "    words = pickle.load(open(r'C:\\Users\\mushirih\\Desktop\\projs\\jupyter\\May20\\words.pkl','rb'))\n",
    "    classes = pickle.load(open(r'C:\\Users\\mushirih\\Desktop\\projs\\jupyter\\May20\\classes.pkl','rb'))\n",
    "    model = load_model(r'C:\\Users\\mushirih\\Desktop\\projs\\jupyter\\May20\\chatbot_model.h5')\n",
    "\n",
    "    p = bow(sentence,words, show_details=True)\n",
    "    res = model.predict(np.array([p]))[0]\n",
    "    print('1',model.predict(np.array([p])))\n",
    "    ERROR_THRESHOLD=.25\n",
    "    results = [[i,r] for i, r in enumerate(res) if r>ERROR_THRESHOLD]\n",
    "    results.sort(key=lambda x: x[1], reverse=True)\n",
    "    return_list = []\n",
    "    for r in results:\n",
    "        return_list.append({\"intent\":classes[r[0]],\"probability\":str(r[1])})\n",
    "        print('-->',\"intent\",classes[r[0]],\"probability\",str(r[1]),'<--')\n",
    "    return return_list"
   ]
  },
  {
   "cell_type": "code",
   "execution_count": 14,
   "metadata": {},
   "outputs": [],
   "source": [
    "def chatbot_response(text):\n",
    "    \n",
    "    \n",
    "    intents = json.loads(open(r'C:\\Users\\mushirih\\Desktop\\projs\\jupyter\\data\\python-project-chatbot-codes\\intents.json').read())\n",
    "\n",
    "    ints = predict_class(text)\n",
    "    print(ints)\n",
    "    res=getResponse(ints,intents)\n",
    "    \n",
    "    return res"
   ]
  },
  {
   "cell_type": "code",
   "execution_count": 15,
   "metadata": {},
   "outputs": [],
   "source": [
    "def send():\n",
    "    msg = EntryBox.get(\"1.0\",'end-1c').strip()\n",
    "    EntryBox.delete(\"0.0\",END)\n",
    "    \n",
    "    if msg !='':\n",
    "        ChatLog.config(state=NORMAL)\n",
    "        ChatLog.insert(END,\"You: \"+msg+'\\n\\n')\n",
    "        ChatLog.config(foreground=\"#442265\", font=(\"Verdana\",12))\n",
    "        res = chatbot_response(msg)\n",
    "        ChatLog.insert(END,\"Bot: \"+res+'\\n\\n')\n",
    "        \n",
    "        ChatLog.config(state=DISABLED)\n",
    "        ChatLog.yview(END)"
   ]
  },
  {
   "cell_type": "code",
   "execution_count": 16,
   "metadata": {},
   "outputs": [
    {
     "name": "stdout",
     "output_type": "stream",
     "text": [
      "Found in bag: hello\n",
      "1 [[7.2517429e-07 7.6474016e-06 3.1774594e-05 1.7351897e-05 9.9973911e-01\n",
      "  2.0270274e-05 1.1845859e-05 4.8965845e-05 1.2238864e-04]]\n",
      "--> intent greeting probability 0.9997391 <--\n",
      "[{'intent': 'greeting', 'probability': '0.9997391'}]\n",
      "Found in bag: you\n",
      "Found in bag: good\n",
      "1 [[2.8652395e-04 1.2567117e-03 1.3648621e-03 2.1949137e-02 6.6715491e-01\n",
      "  1.0321814e-03 2.8325947e-02 3.1924574e-04 2.7831054e-01]]\n",
      "--> intent greeting probability 0.6671549 <--\n",
      "--> intent thanks probability 0.27831054 <--\n",
      "[{'intent': 'greeting', 'probability': '0.6671549'}, {'intent': 'thanks', 'probability': '0.27831054'}]\n",
      "Found in bag: pharmacy\n",
      "1 [[9.7039856e-06 6.2506376e-07 2.8621612e-06 1.2705604e-05 6.3439627e-05\n",
      "  5.3565589e-07 8.6454520e-06 9.9990141e-01 5.1813180e-09]]\n",
      "--> intent pharmacy_search probability 0.9999014 <--\n",
      "[{'intent': 'pharmacy_search', 'probability': '0.9999014'}]\n",
      "1 [[0.00089469 0.00176459 0.00235565 0.0626983  0.8743568  0.00604719\n",
      "  0.00350324 0.00366184 0.04471774]]\n",
      "--> intent greeting probability 0.8743568 <--\n",
      "[{'intent': 'greeting', 'probability': '0.8743568'}]\n",
      "Found in bag: help\n",
      "Found in bag: me\n",
      "1 [[4.50744956e-05 1.26180996e-04 1.16770934e-04 3.05170426e-04\n",
      "  3.88407701e-04 4.10959956e-06 9.97476518e-01 1.52869892e-04\n",
      "  1.38484233e-03]]\n",
      "--> intent options probability 0.9974765 <--\n",
      "[{'intent': 'options', 'probability': '0.9974765'}]\n",
      "Found in bag: i\n",
      "Found in bag: want\n",
      "Found in bag: drug\n",
      "1 [[9.2969024e-01 3.2904537e-03 9.1448048e-04 3.8273141e-02 1.2951137e-03\n",
      "  5.1225745e-03 3.3495540e-03 3.3910808e-03 1.4673364e-02]]\n",
      "--> intent adverse_drug probability 0.92969024 <--\n",
      "[{'intent': 'adverse_drug', 'probability': '0.92969024'}]\n",
      "Found in bag: hospital\n",
      "1 [[2.8541147e-06 1.6127378e-06 1.1329256e-05 1.1624605e-04 1.0044669e-04\n",
      "  9.9973637e-01 6.6880808e-08 7.1278185e-07 3.0238389e-05]]\n",
      "--> intent hospital_search probability 0.99973637 <--\n",
      "[{'intent': 'hospital_search', 'probability': '0.99973637'}]\n"
     ]
    }
   ],
   "source": [
    "\n",
    "\n",
    "\n",
    "    \n",
    "    \n",
    "base = Tk()\n",
    "base.title(\"Hello\")\n",
    "base.geometry(\"400x500\")\n",
    "base.resizable(width=FALSE, height=FALSE)\n",
    "\n",
    "ChatLog = Text(base,bd=0,bg='white',height='8', width='50', font='Arial')\n",
    "\n",
    "ChatLog.config(state=DISABLED)\n",
    "\n",
    "scrollbar = Scrollbar(base, command=ChatLog.yview, cursor='heart')\n",
    "ChatLog['yscrollcommand']=scrollbar.set\n",
    "\n",
    "SendButton = Button(base, font=(\"Verdana\",12,'bold'),text='Send',width=\"12\",height=\"5\",bd=\"0\",bg=\"#32de97\",activebackground=\"#3c9d9b\",fg=\"#ffffff\",command=send)\n",
    "\n",
    "EntryBox = Text(base,bd=0,bg='white',width=29,height=5,font=\"Arial\")\n",
    "\n",
    "scrollbar.place(x=376,y=6,height=386)\n",
    "ChatLog.place(x=6,y=6,height=386)\n",
    "EntryBox.place(x=128,y=401,height=90, width=265)\n",
    "SendButton.place(x=6,y=401,height=90)\n",
    "\n",
    "base.mainloop()"
   ]
  },
  {
   "cell_type": "code",
   "execution_count": null,
   "metadata": {},
   "outputs": [],
   "source": []
  }
 ],
 "metadata": {
  "kernelspec": {
   "display_name": "Python 3",
   "language": "python",
   "name": "python3"
  },
  "language_info": {
   "codemirror_mode": {
    "name": "ipython",
    "version": 3
   },
   "file_extension": ".py",
   "mimetype": "text/x-python",
   "name": "python",
   "nbconvert_exporter": "python",
   "pygments_lexer": "ipython3",
   "version": "3.7.6"
  }
 },
 "nbformat": 4,
 "nbformat_minor": 4
}
