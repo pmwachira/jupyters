{
 "cells": [
  {
   "cell_type": "code",
   "execution_count": 13,
   "metadata": {},
   "outputs": [],
   "source": [
    "import numpy as np\n",
    "import pandas as pd\n",
    "import matplotlib.pyplot as plt\n",
    "import tensorflow as tf\n",
    "from PIL import Image\n",
    "import os\n",
    "from sklearn.model_selection import train_test_split\n",
    "from keras.utils import to_categorical\n",
    "from keras.models import Sequential\n",
    "from keras.layers import Conv2D, MaxPool2D, Dense, Flatten, Dropout"
   ]
  },
  {
   "cell_type": "code",
   "execution_count": 14,
   "metadata": {},
   "outputs": [],
   "source": [
    "data = []\n",
    "labels = []\n",
    "classes = 43\n",
    "\n",
    "\n",
    "# cur_path = os.getcwd()\n",
    "# print (os.getcwd())\n",
    "# os.chdir(\"..\")\n",
    "# print(os.getcwd())\n",
    "cur_path=r'C:\\\\Users\\\\mushirih\\\\Desktop\\\\projs\\jupyter\\\\'\n",
    "\n",
    "\n",
    "for i in range(classes):\n",
    "    path = os.path.join(cur_path,'data','gtsrb-german-traffic-sign','Train',str(i))\n",
    "    images = os.listdir(path)\n",
    "    \n",
    "    for a in images:\n",
    "        try:\n",
    "            image = Image.open(path+'\\\\'+a)\n",
    "            image = image.resize((30,30))\n",
    "            image = np.array(image)\n",
    "            data.append(image)\n",
    "            labels.append(i)\n",
    "        except:\n",
    "            print(\"Error in loading image\")\n",
    "            \n",
    "data = np.array(data)\n",
    "labels = np.array(labels)"
   ]
  },
  {
   "cell_type": "code",
   "execution_count": 15,
   "metadata": {},
   "outputs": [
    {
     "name": "stdout",
     "output_type": "stream",
     "text": [
      "[[[ 75  78  80]\n",
      "  [ 74  76  78]\n",
      "  [ 85  86  84]\n",
      "  ...\n",
      "  [ 68  75  74]\n",
      "  [ 65  69  68]\n",
      "  [ 66  67  66]]\n",
      "\n",
      " [[ 83  84  86]\n",
      "  [ 80  80  82]\n",
      "  [ 88  88  83]\n",
      "  ...\n",
      "  [ 73  77  78]\n",
      "  [ 76  78  75]\n",
      "  [ 80  80  78]]\n",
      "\n",
      " [[ 78  78  80]\n",
      "  [ 86  85  86]\n",
      "  [ 90  89  90]\n",
      "  ...\n",
      "  [ 71  74  71]\n",
      "  [ 73  74  69]\n",
      "  [ 78  78  74]]\n",
      "\n",
      " ...\n",
      "\n",
      " [[133 134 139]\n",
      "  [123 127 132]\n",
      "  [112 121 125]\n",
      "  ...\n",
      "  [ 94  95  89]\n",
      "  [ 97  98  91]\n",
      "  [ 99 103  99]]\n",
      "\n",
      " [[ 91  95  99]\n",
      "  [ 91  98 103]\n",
      "  [ 75  86  90]\n",
      "  ...\n",
      "  [104 102  96]\n",
      "  [110 113 104]\n",
      "  [ 96 104  98]]\n",
      "\n",
      " [[ 85  84  87]\n",
      "  [ 95 101 107]\n",
      "  [ 63  76  81]\n",
      "  ...\n",
      "  [103 103  95]\n",
      "  [ 99 102  90]\n",
      "  [ 90  97  89]]]\n",
      "0\n"
     ]
    }
   ],
   "source": [
    "print(data[0])\n",
    "print(labels[0])"
   ]
  },
  {
   "cell_type": "code",
   "execution_count": 16,
   "metadata": {},
   "outputs": [
    {
     "name": "stdout",
     "output_type": "stream",
     "text": [
      "(31367, 30, 30, 3) (7842, 30, 30, 3) (31367,) (7842,)\n",
      "[0. 0. 0. 0. 0. 0. 0. 0. 0. 0. 0. 0. 0. 0. 0. 0. 0. 0. 0. 0. 0. 0. 0. 0.\n",
      " 0. 0. 0. 0. 0. 0. 0. 0. 0. 0. 0. 0. 1. 0. 0. 0. 0. 0. 0.]\n"
     ]
    }
   ],
   "source": [
    "X_train, X_test, y_train, y_test = train_test_split(data, labels, test_size=.2, random_state=42)\n",
    "\n",
    "print(X_train.shape, X_test.shape, y_train.shape, y_test.shape)\n",
    "\n",
    "y_train = to_categorical(y_train,43)\n",
    "y_test= to_categorical(y_test, 43)\n",
    "\n",
    "print(y_train[0])"
   ]
  },
  {
   "cell_type": "code",
   "execution_count": 17,
   "metadata": {},
   "outputs": [],
   "source": [
    "# build cnn"
   ]
  },
  {
   "cell_type": "code",
   "execution_count": 19,
   "metadata": {},
   "outputs": [],
   "source": [
    "model = Sequential()\n",
    "model.add(Conv2D(filters=32, kernel_size=(5,5), activation='relu', input_shape=X_train.shape[1:]))\n",
    "model.add(Conv2D(filters=32, kernel_size=(5,5), activation='relu'))\n",
    "model.add(MaxPool2D(pool_size=(2,2)))\n",
    "model.add(Dropout(rate=.25))\n",
    "model.add(Conv2D(filters=64, kernel_size=(3,3), activation='relu'))\n",
    "model.add(Conv2D(filters=64, kernel_size=(3,3), activation='relu'))\n",
    "model.add(Dropout(rate=.25))\n",
    "model.add(Flatten())\n",
    "model.add(Dense(256, activation = 'relu'))\n",
    "model.add(Dropout(rate = .5))\n",
    "model.add(Dense(43, activation ='softmax'))\n",
    "\n",
    "model.compile(loss='categorical_crossentropy', optimizer='adam', metrics=['accuracy'])"
   ]
  },
  {
   "cell_type": "code",
   "execution_count": 20,
   "metadata": {},
   "outputs": [
    {
     "name": "stdout",
     "output_type": "stream",
     "text": [
      "Train on 31367 samples, validate on 7842 samples\n",
      "Epoch 1/15\n",
      "31367/31367 [==============================] - 134s 4ms/step - loss: 1.3628 - accuracy: 0.6865 - val_loss: 0.1837 - val_accuracy: 0.9597\n",
      "Epoch 2/15\n",
      "31367/31367 [==============================] - 122s 4ms/step - loss: 0.3193 - accuracy: 0.9112 - val_loss: 0.0938 - val_accuracy: 0.9750\n",
      "Epoch 3/15\n",
      "31367/31367 [==============================] - 120s 4ms/step - loss: 0.2076 - accuracy: 0.9425 - val_loss: 0.0635 - val_accuracy: 0.9838\n",
      "Epoch 4/15\n",
      "31367/31367 [==============================] - 119s 4ms/step - loss: 0.1693 - accuracy: 0.9519 - val_loss: 0.0558 - val_accuracy: 0.9837\n",
      "Epoch 5/15\n",
      "31367/31367 [==============================] - 119s 4ms/step - loss: 0.1469 - accuracy: 0.9589 - val_loss: 0.1028 - val_accuracy: 0.9736\n",
      "Epoch 6/15\n",
      "31367/31367 [==============================] - 126s 4ms/step - loss: 0.1377 - accuracy: 0.9626 - val_loss: 0.0363 - val_accuracy: 0.9913\n",
      "Epoch 7/15\n",
      "31367/31367 [==============================] - 126s 4ms/step - loss: 0.1298 - accuracy: 0.9649 - val_loss: 0.0327 - val_accuracy: 0.9918\n",
      "Epoch 8/15\n",
      "31367/31367 [==============================] - 121s 4ms/step - loss: 0.1147 - accuracy: 0.9690 - val_loss: 0.1073 - val_accuracy: 0.9727\n",
      "Epoch 9/15\n",
      "31367/31367 [==============================] - 126s 4ms/step - loss: 0.1325 - accuracy: 0.9652 - val_loss: 0.0407 - val_accuracy: 0.9901\n",
      "Epoch 10/15\n",
      "31367/31367 [==============================] - 131s 4ms/step - loss: 0.1261 - accuracy: 0.9668 - val_loss: 0.0424 - val_accuracy: 0.9890\n",
      "Epoch 11/15\n",
      "31367/31367 [==============================] - 128s 4ms/step - loss: 0.1148 - accuracy: 0.9707 - val_loss: 0.0345 - val_accuracy: 0.9916\n",
      "Epoch 12/15\n",
      "31367/31367 [==============================] - 133s 4ms/step - loss: 0.1389 - accuracy: 0.9641 - val_loss: 0.0369 - val_accuracy: 0.9902\n",
      "Epoch 13/15\n",
      "31367/31367 [==============================] - 136s 4ms/step - loss: 0.1309 - accuracy: 0.9680 - val_loss: 0.0475 - val_accuracy: 0.9887\n",
      "Epoch 14/15\n",
      "31367/31367 [==============================] - 134s 4ms/step - loss: 0.1043 - accuracy: 0.9732 - val_loss: 0.0383 - val_accuracy: 0.9904\n",
      "Epoch 15/15\n",
      "31367/31367 [==============================] - 130s 4ms/step - loss: 0.1117 - accuracy: 0.9746 - val_loss: 0.0480 - val_accuracy: 0.9879\n"
     ]
    }
   ],
   "source": [
    "# train and validate\n",
    "epochs = 15\n",
    "history = model.fit(X_train, y_train, batch_size=64,epochs = epochs, validation_data=(X_test,y_test))"
   ]
  },
  {
   "cell_type": "code",
   "execution_count": 21,
   "metadata": {},
   "outputs": [
    {
     "data": {
      "text/plain": [
       "<matplotlib.legend.Legend at 0x1b04c711b48>"
      ]
     },
     "execution_count": 21,
     "metadata": {},
     "output_type": "execute_result"
    },
    {
     "data": {
      "image/png": "[encoded data removed]",
      "text/plain": [
       "<Figure size 432x288 with 1 Axes>"
      ]
     },
     "metadata": {
      "needs_background": "light"
     },
     "output_type": "display_data"
    },
    {
     "data": {
      "image/png": "[encoded data removed]",
      "text/plain": [
       "<Figure size 432x288 with 1 Axes>"
      ]
     },
     "metadata": {
      "needs_background": "light"
     },
     "output_type": "display_data"
    }
   ],
   "source": [
    "plt.figure(0)\n",
    "plt.plot(history.history['accuracy'], label='training accuracy')\n",
    "plt.plot(history.history['val_accuracy'], label='val accuracy')\n",
    "plt.title('Accuracy')\n",
    "plt.xlabel('epochs')\n",
    "plt.ylabel('accuracy')\n",
    "plt.legend()\n",
    "\n",
    "plt.figure(1)\n",
    "plt.plot(history.history['loss'],label='training loss')\n",
    "plt.plot(history.history['val_loss'], label =' val loss')\n",
    "plt.title('Loss')\n",
    "plt.xlabel('epochs')\n",
    "plt.ylabel('loss')\n",
    "plt.legend()"
   ]
  },
  {
   "cell_type": "code",
   "execution_count": 23,
   "metadata": {},
   "outputs": [
    {
     "data": {
      "text/plain": [
       "0.9554235946159937"
      ]
     },
     "execution_count": 23,
     "metadata": {},
     "output_type": "execute_result"
    }
   ],
   "source": [
    "# Test model with test dataset\n",
    "from sklearn.metrics import accuracy_score\n",
    "import pandas as pd\n",
    "\n",
    "path = os.path.join(cur_path,'data','gtsrb-german-traffic-sign','Test.csv')\n",
    "    \n",
    "y_test = pd.read_csv(path)\n",
    "labels = y_test['ClassId'].values\n",
    "imgs=y_test['Path'].values\n",
    "\n",
    "data = []\n",
    "\n",
    "for img in imgs:\n",
    "    image = Image.open(os.path.join(cur_path,'data','gtsrb-german-traffic-sign',img))\n",
    "    image = image.resize((30,30))\n",
    "    data.append(np.array(image))\n",
    "    \n",
    "X_test = np.array(data)\n",
    "\n",
    "pred = model.predict_classes(X_test)\n",
    "\n",
    "accuracy_score(labels, pred)"
   ]
  },
  {
   "cell_type": "code",
   "execution_count": 25,
   "metadata": {},
   "outputs": [],
   "source": [
    "model.save('traffic_classifier.h5')"
   ]
  },
  {
   "cell_type": "code",
   "execution_count": null,
   "metadata": {},
   "outputs": [],
   "source": []
  }
 ],
 "metadata": {
  "kernelspec": {
   "display_name": "Python 3",
   "language": "python",
   "name": "python3"
  },
  "language_info": {
   "codemirror_mode": {
    "name": "ipython",
    "version": 3
   },
   "file_extension": ".py",
   "mimetype": "text/x-python",
   "name": "python",
   "nbconvert_exporter": "python",
   "pygments_lexer": "ipython3",
   "version": "3.7.6"
  }
 },
 "nbformat": 4,
 "nbformat_minor": 4
}
