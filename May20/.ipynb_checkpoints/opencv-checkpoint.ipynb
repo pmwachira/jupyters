{
 "cells": [
  {
   "cell_type": "code",
   "execution_count": 2,
   "metadata": {},
   "outputs": [
    {
     "name": "stderr",
     "output_type": "stream",
     "text": [
      "usage: ipykernel_launcher.py [-h] --i I\n",
      "ipykernel_launcher.py: error: the following arguments are required: --i/--image\n"
     ]
    },
    {
     "ename": "SystemExit",
     "evalue": "2",
     "output_type": "error",
     "traceback": [
      "An exception has occurred, use %tb to see the full traceback.\n",
      "\u001b[1;31mSystemExit\u001b[0m\u001b[1;31m:\u001b[0m 2\n"
     ]
    },
    {
     "name": "stderr",
     "output_type": "stream",
     "text": [
      "C:\\Users\\mushirih\\anaconda3\\lib\\site-packages\\IPython\\core\\interactiveshell.py:3339: UserWarning: To exit: use 'exit', 'quit', or Ctrl-D.\n",
      "  warn(\"To exit: use 'exit', 'quit', or Ctrl-D.\", stacklevel=1)\n"
     ]
    }
   ],
   "source": [
    "import argparse\n",
    "\n",
    "def take_image_from_user()\n",
    "    ap = argparse.ArgumentParser()\n",
    "    ap.add_argument('--i','--image', required=True, help=\"Image Path\")\n",
    "    args = vars(ap.parse_args())\n",
    "    img_path = args['image']\n",
    "\n",
    "    img = cv2.imread(img_path)"
   ]
  },
  {
   "cell_type": "code",
   "execution_count": null,
   "metadata": {},
   "outputs": [],
   "source": [
    "# read csv\n",
    "import pandas as pd\n",
    "\n",
    "index = ['color','color_name','hex','R','G','B']\n",
    "csv = pd.read_csv('../data/colors.csv',names=index,header=None)"
   ]
  },
  {
   "cell_type": "code",
   "execution_count": null,
   "metadata": {},
   "outputs": [],
   "source": [
    "cv2.namedWindow('image')\n",
    "cv2.setMouseCallback('image', draw_function)"
   ]
  },
  {
   "cell_type": "code",
   "execution_count": null,
   "metadata": {},
   "outputs": [],
   "source": [
    "def draw_function(event, x, y, flags, param):\n",
    "    if event == cv2.EVENT_LBUTTONDBLCLK:\n",
    "        global b, g, r, xpos, ypos, clicked\n",
    "        clicked = True\n",
    "        xpos = x\n",
    "        ypos = y\n",
    "        b, g, r = img[y,x]\n",
    "        b = int(b)\n",
    "        g = int(g)\n",
    "        r = int(r)"
   ]
  },
  {
   "cell_type": "code",
   "execution_count": null,
   "metadata": {},
   "outputs": [],
   "source": [
    "def getColorName(R, G, B):\n",
    "    minimum =10000\n",
    "    for i in range(len(csv)):\n",
    "        d =abs(R-int(csv.loc[i,'R']))+abs(G - int(csv.loc[i,'G']))+abs(B-int(csv.loc[i, 'B']))\n",
    "        if (d<=minimum):\n",
    "            minimum = d\n",
    "            cname=csv.loc[i,'color_name']\n",
    "            \n",
    "    returmn cname"
   ]
  },
  {
   "cell_type": "code",
   "execution_count": null,
   "metadata": {},
   "outputs": [],
   "source": [
    "while(1):\n",
    "    cv2.imshow('image',img)\n",
    "    if(clicked):\n",
    "        cv2.rectangle(img,(20,20),(750,60),(b, g, r), -1)\n",
    "        text = getColorName(r, g, b) + 'R='+str(r)+ 'G='+str(g)+ 'B='+str(b)\n",
    "        cv2.putText(img, text,(50,50),2,.8,(255,255,255),2,cv2.LINE_AA)\n",
    "        clicked=False\n",
    "        \n",
    "    if cv2.WaitKey(20) & 0xFF = 27:\n",
    "        break\n",
    "        \n",
    "cv2.destroyAllWindows()"
   ]
  }
 ],
 "metadata": {
  "kernelspec": {
   "display_name": "Python 3",
   "language": "python",
   "name": "python3"
  },
  "language_info": {
   "codemirror_mode": {
    "name": "ipython",
    "version": 3
   },
   "file_extension": ".py",
   "mimetype": "text/x-python",
   "name": "python",
   "nbconvert_exporter": "python",
   "pygments_lexer": "ipython3",
   "version": "3.7.6"
  }
 },
 "nbformat": 4,
 "nbformat_minor": 4
}
