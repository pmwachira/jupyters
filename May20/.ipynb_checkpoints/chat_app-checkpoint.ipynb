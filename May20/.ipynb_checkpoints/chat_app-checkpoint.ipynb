{
 "cells": [
  {
   "cell_type": "code",
   "execution_count": 1,
   "metadata": {},
   "outputs": [
    {
     "name": "stderr",
     "output_type": "stream",
     "text": [
      "Using TensorFlow backend.\n"
     ]
    }
   ],
   "source": [
    "import nltk\n",
    "from nltk.stem import WordNetLemmatizer\n",
    "import pickle\n",
    "import numpy as np\n",
    "from keras.models import load_model\n",
    "import json\n",
    "import random\n",
    "import tkinter\n",
    "from tkinter import *\n"
   ]
  },
  {
   "cell_type": "code",
   "execution_count": 2,
   "metadata": {},
   "outputs": [],
   "source": [
    "def clean_up_sentence(sentence):\n",
    "    lemmatizer = WordNetLemmatizer()\n",
    "    sentence_words = nltk.word_tokenize(sentence)\n",
    "    sentence_words = [lemmatizer.lemmatize(word.lower()) for word in sentence_words]\n",
    "    return sentence_words"
   ]
  },
  {
   "cell_type": "code",
   "execution_count": 3,
   "metadata": {},
   "outputs": [],
   "source": [
    "def getResponse(ints, intents_json):\n",
    "    tag = ints[0]['intent']\n",
    "    list_of_intents = intents_json['intents']\n",
    "   \n",
    "    for i in list_of_intents:\n",
    "        if(i['tag']== tag):\n",
    "            result = random.choice(i['responses'])\n",
    "            break\n",
    "    return result\n",
    "\n",
    "\n"
   ]
  },
  {
   "cell_type": "code",
   "execution_count": 4,
   "metadata": {},
   "outputs": [],
   "source": [
    "def bow(sentence, words, show_details=True):\n",
    "    sentence_words=clean_up_sentence(sentence)\n",
    "\n",
    "    bag = [0]*len(words)\n",
    "    for s in sentence_words:\n",
    "        for i,w in enumerate(words):\n",
    "            if w == s:\n",
    "                bag[i]=1\n",
    "                if show_details:\n",
    "                    print(\"Found in bag: %s\" %w)\n",
    "            \n",
    "    return np.array(bag)\n",
    "    "
   ]
  },
  {
   "cell_type": "code",
   "execution_count": 5,
   "metadata": {},
   "outputs": [],
   "source": [
    "def predict_class(sentence):\n",
    "    words = pickle.load(open(r'C:\\Users\\mushirih\\Desktop\\projs\\jupyter\\May20\\words.pkl','rb'))\n",
    "    classes = pickle.load(open(r'C:\\Users\\mushirih\\Desktop\\projs\\jupyter\\May20\\classes.pkl','rb'))\n",
    "    model = load_model(r'C:\\Users\\mushirih\\Desktop\\projs\\jupyter\\May20\\chatbot_model.h5')\n",
    "\n",
    "    p = bow(sentence,words, show_details=True)\n",
    "    res = model.predict(np.array([p]))[0]\n",
    "    print('1',model.predict(np.array([p])))\n",
    "    ERROR_THRESHOLD=.25\n",
    "    results = [[i,r] for i, r in enumerate(res) if r>ERROR_THRESHOLD]\n",
    "    results.sort(key=lambda x: x[1], reverse=True)\n",
    "    return_list = []\n",
    "    for r in results:\n",
    "        return_list.append({\"intent\":classes[r[0]],\"probability\":str(r[1])})\n",
    "        print('-->',\"intent\",classes[r[0]],\"probability\",str(r[1]),'<--')\n",
    "    return return_list"
   ]
  },
  {
   "cell_type": "code",
   "execution_count": 6,
   "metadata": {},
   "outputs": [],
   "source": [
    "def chatbot_response(text):\n",
    "    \n",
    "    \n",
    "    intents = json.loads(open(r'C:\\Users\\mushirih\\Desktop\\projs\\jupyter\\data\\python-project-chatbot-codes\\intents.json').read())\n",
    "\n",
    "    ints = predict_class(text)\n",
    "    print(ints)\n",
    "    res=getResponse(ints,intents)\n",
    "    \n",
    "    return res"
   ]
  },
  {
   "cell_type": "code",
   "execution_count": 7,
   "metadata": {},
   "outputs": [],
   "source": [
    "def send():\n",
    "    msg = EntryBox.get(\"1.0\",'end-1c').strip()\n",
    "    EntryBox.delete(\"0.0\",END)\n",
    "    \n",
    "    if msg !='':\n",
    "        ChatLog.config(state=NORMAL)\n",
    "        ChatLog.insert(END,\"You: \"+msg+'\\n\\n')\n",
    "        ChatLog.config(foreground=\"#442265\", font=(\"Verdana\",12))\n",
    "        res = chatbot_response(msg)\n",
    "        ChatLog.insert(END,\"Bot: \"+res+'\\n\\n')\n",
    "        \n",
    "        ChatLog.config(state=DISABLED)\n",
    "        ChatLog.yview(END)"
   ]
  },
  {
   "cell_type": "code",
   "execution_count": null,
   "metadata": {},
   "outputs": [
    {
     "name": "stdout",
     "output_type": "stream",
     "text": [
      "Found in bag: pharmacy\n",
      "1 [[1.0752724e-07 2.1973767e-07 1.5665089e-08 1.8311971e-06 3.0509809e-06\n",
      "  1.0603413e-06 1.6007888e-07 9.9999344e-01 1.6444915e-07]]\n",
      "--> intent pharmacy_search probability 0.99999344 <--\n",
      "[{'intent': 'pharmacy_search', 'probability': '0.99999344'}]\n",
      "1 [[2.1254434e-03 2.3716688e-03 3.8246653e-04 1.5014946e-01 7.9074484e-01\n",
      "  6.7932573e-03 6.6155009e-03 1.1997343e-02 2.8820017e-02]]\n",
      "--> intent greeting probability 0.79074484 <--\n",
      "[{'intent': 'greeting', 'probability': '0.79074484'}]\n",
      "Found in bag: how\n",
      "Found in bag: are\n",
      "Found in bag: you\n",
      "1 [[1.5799273e-05 3.2604901e-05 3.2206887e-07 3.1670392e-05 9.9982089e-01\n",
      "  9.4502784e-06 4.9580653e-05 1.3883830e-05 2.5876961e-05]]\n",
      "--> intent greeting probability 0.9998209 <--\n",
      "[{'intent': 'greeting', 'probability': '0.9998209'}]\n",
      "Found in bag: i\n",
      "1 [[0.00541745 0.01211044 0.00087291 0.10178258 0.75053245 0.05158545\n",
      "  0.01015142 0.04313667 0.02441063]]\n",
      "--> intent greeting probability 0.75053245 <--\n",
      "[{'intent': 'greeting', 'probability': '0.75053245'}]\n",
      "Found in bag: bye\n",
      "1 [[5.8371791e-07 7.7598334e-06 7.2972608e-07 9.9988508e-01 6.2401064e-05\n",
      "  1.8977695e-05 6.8208697e-06 4.3604632e-06 1.3176705e-05]]\n",
      "--> intent goodbye probability 0.9998851 <--\n",
      "[{'intent': 'goodbye', 'probability': '0.9998851'}]\n"
     ]
    }
   ],
   "source": [
    "\n",
    "\n",
    "\n",
    "    \n",
    "    \n",
    "base = Tk()\n",
    "base.title(\"Hello\")\n",
    "base.geometry(\"400x500\")\n",
    "base.resizable(width=FALSE, height=FALSE)\n",
    "\n",
    "ChatLog = Text(base,bd=0,bg='white',height='8', width='50', font='Arial')\n",
    "\n",
    "ChatLog.config(state=DISABLED)\n",
    "\n",
    "scrollbar = Scrollbar(base, command=ChatLog.yview, cursor='heart')\n",
    "ChatLog['yscrollcommand']=scrollbar.set\n",
    "\n",
    "SendButton = Button(base, font=(\"Verdana\",12,'bold'),text='Send',width=\"12\",height=\"5\",bd=\"0\",bg=\"#32de97\",activebackground=\"#3c9d9b\",fg=\"#ffffff\",command=send)\n",
    "\n",
    "EntryBox = Text(base,bd=0,bg='white',width=29,height=5,font=\"Arial\")\n",
    "\n",
    "scrollbar.place(x=376,y=6,height=386)\n",
    "ChatLog.place(x=6,y=6,height=386)\n",
    "EntryBox.place(x=128,y=401,height=90, width=265)\n",
    "SendButton.place(x=6,y=401,height=90)\n",
    "\n",
    "base.mainloop()"
   ]
  },
  {
   "cell_type": "code",
   "execution_count": null,
   "metadata": {},
   "outputs": [],
   "source": []
  }
 ],
 "metadata": {
  "kernelspec": {
   "display_name": "Python 3",
   "language": "python",
   "name": "python3"
  },
  "language_info": {
   "codemirror_mode": {
    "name": "ipython",
    "version": 3
   },
   "file_extension": ".py",
   "mimetype": "text/x-python",
   "name": "python",
   "nbconvert_exporter": "python",
   "pygments_lexer": "ipython3",
   "version": "3.7.6"
  }
 },
 "nbformat": 4,
 "nbformat_minor": 4
}
