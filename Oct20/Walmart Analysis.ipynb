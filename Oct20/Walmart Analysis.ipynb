{
 "cells": [
  {
   "cell_type": "code",
   "execution_count": 1,
   "metadata": {},
   "outputs": [],
   "source": [
    "import pandas as pd\n",
    "from datetime import date\n",
    "import numpy as np\n",
    "import matplotlib.pyplot as plt\n",
    "import seaborn as sb"
   ]
  },
  {
   "cell_type": "code",
   "execution_count": 3,
   "metadata": {},
   "outputs": [],
   "source": [
    "data = pd.read_csv(r'C:\\Users\\mushirih\\Desktop\\projs\\jupyter\\Oct20\\data\\Walmart_Store_sales.csv')"
   ]
  },
  {
   "cell_type": "code",
   "execution_count": 4,
   "metadata": {},
   "outputs": [
    {
     "data": {
      "text/html": [
       "<div>\n",
       "<style scoped>\n",
       "    .dataframe tbody tr th:only-of-type {\n",
       "        vertical-align: middle;\n",
       "    }\n",
       "\n",
       "    .dataframe tbody tr th {\n",
       "        vertical-align: top;\n",
       "    }\n",
       "\n",
       "    .dataframe thead th {\n",
       "        text-align: right;\n",
       "    }\n",
       "</style>\n",
       "<table border=\"1\" class=\"dataframe\">\n",
       "  <thead>\n",
       "    <tr style=\"text-align: right;\">\n",
       "      <th></th>\n",
       "      <th>Store</th>\n",
       "      <th>Date</th>\n",
       "      <th>Weekly_Sales</th>\n",
       "      <th>Holiday_Flag</th>\n",
       "      <th>Temperature</th>\n",
       "      <th>Fuel_Price</th>\n",
       "      <th>CPI</th>\n",
       "      <th>Unemployment</th>\n",
       "    </tr>\n",
       "  </thead>\n",
       "  <tbody>\n",
       "    <tr>\n",
       "      <th>0</th>\n",
       "      <td>1</td>\n",
       "      <td>05-02-2010</td>\n",
       "      <td>1643690.90</td>\n",
       "      <td>0</td>\n",
       "      <td>42.31</td>\n",
       "      <td>2.572</td>\n",
       "      <td>211.096358</td>\n",
       "      <td>8.106</td>\n",
       "    </tr>\n",
       "    <tr>\n",
       "      <th>1</th>\n",
       "      <td>1</td>\n",
       "      <td>12-02-2010</td>\n",
       "      <td>1641957.44</td>\n",
       "      <td>1</td>\n",
       "      <td>38.51</td>\n",
       "      <td>2.548</td>\n",
       "      <td>211.242170</td>\n",
       "      <td>8.106</td>\n",
       "    </tr>\n",
       "    <tr>\n",
       "      <th>2</th>\n",
       "      <td>1</td>\n",
       "      <td>19-02-2010</td>\n",
       "      <td>1611968.17</td>\n",
       "      <td>0</td>\n",
       "      <td>39.93</td>\n",
       "      <td>2.514</td>\n",
       "      <td>211.289143</td>\n",
       "      <td>8.106</td>\n",
       "    </tr>\n",
       "    <tr>\n",
       "      <th>3</th>\n",
       "      <td>1</td>\n",
       "      <td>26-02-2010</td>\n",
       "      <td>1409727.59</td>\n",
       "      <td>0</td>\n",
       "      <td>46.63</td>\n",
       "      <td>2.561</td>\n",
       "      <td>211.319643</td>\n",
       "      <td>8.106</td>\n",
       "    </tr>\n",
       "    <tr>\n",
       "      <th>4</th>\n",
       "      <td>1</td>\n",
       "      <td>05-03-2010</td>\n",
       "      <td>1554806.68</td>\n",
       "      <td>0</td>\n",
       "      <td>46.50</td>\n",
       "      <td>2.625</td>\n",
       "      <td>211.350143</td>\n",
       "      <td>8.106</td>\n",
       "    </tr>\n",
       "  </tbody>\n",
       "</table>\n",
       "</div>"
      ],
      "text/plain": [
       "   Store        Date  Weekly_Sales  Holiday_Flag  Temperature  Fuel_Price  \\\n",
       "0      1  05-02-2010    1643690.90             0        42.31       2.572   \n",
       "1      1  12-02-2010    1641957.44             1        38.51       2.548   \n",
       "2      1  19-02-2010    1611968.17             0        39.93       2.514   \n",
       "3      1  26-02-2010    1409727.59             0        46.63       2.561   \n",
       "4      1  05-03-2010    1554806.68             0        46.50       2.625   \n",
       "\n",
       "          CPI  Unemployment  \n",
       "0  211.096358         8.106  \n",
       "1  211.242170         8.106  \n",
       "2  211.289143         8.106  \n",
       "3  211.319643         8.106  \n",
       "4  211.350143         8.106  "
      ]
     },
     "execution_count": 4,
     "metadata": {},
     "output_type": "execute_result"
    }
   ],
   "source": [
    "data.head()"
   ]
  },
  {
   "cell_type": "code",
   "execution_count": 5,
   "metadata": {},
   "outputs": [
    {
     "name": "stdout",
     "output_type": "stream",
     "text": [
      "<class 'pandas.core.frame.DataFrame'>\n",
      "RangeIndex: 6435 entries, 0 to 6434\n",
      "Data columns (total 8 columns):\n",
      "Store           6435 non-null int64\n",
      "Date            6435 non-null object\n",
      "Weekly_Sales    6435 non-null float64\n",
      "Holiday_Flag    6435 non-null int64\n",
      "Temperature     6435 non-null float64\n",
      "Fuel_Price      6435 non-null float64\n",
      "CPI             6435 non-null float64\n",
      "Unemployment    6435 non-null float64\n",
      "dtypes: float64(5), int64(2), object(1)\n",
      "memory usage: 402.3+ KB\n"
     ]
    }
   ],
   "source": [
    "data.info()"
   ]
  },
  {
   "cell_type": "code",
   "execution_count": 6,
   "metadata": {},
   "outputs": [
    {
     "data": {
      "text/plain": [
       "Store                    45\n",
       "Date             31-12-2010\n",
       "Weekly_Sales    3.81869e+06\n",
       "Holiday_Flag              1\n",
       "Temperature          100.14\n",
       "Fuel_Price            4.468\n",
       "CPI                 227.233\n",
       "Unemployment         14.313\n",
       "dtype: object"
      ]
     },
     "execution_count": 6,
     "metadata": {},
     "output_type": "execute_result"
    }
   ],
   "source": [
    "data.max()"
   ]
  },
  {
   "cell_type": "code",
   "execution_count": 8,
   "metadata": {},
   "outputs": [
    {
     "data": {
      "text/html": [
       "<div>\n",
       "<style scoped>\n",
       "    .dataframe tbody tr th:only-of-type {\n",
       "        vertical-align: middle;\n",
       "    }\n",
       "\n",
       "    .dataframe tbody tr th {\n",
       "        vertical-align: top;\n",
       "    }\n",
       "\n",
       "    .dataframe thead th {\n",
       "        text-align: right;\n",
       "    }\n",
       "</style>\n",
       "<table border=\"1\" class=\"dataframe\">\n",
       "  <thead>\n",
       "    <tr style=\"text-align: right;\">\n",
       "      <th></th>\n",
       "      <th>Store</th>\n",
       "      <th>Date</th>\n",
       "      <th>Weekly_Sales</th>\n",
       "      <th>Holiday_Flag</th>\n",
       "      <th>Temperature</th>\n",
       "      <th>Fuel_Price</th>\n",
       "      <th>CPI</th>\n",
       "      <th>Unemployment</th>\n",
       "    </tr>\n",
       "  </thead>\n",
       "  <tbody>\n",
       "    <tr>\n",
       "      <th>1905</th>\n",
       "      <td>14</td>\n",
       "      <td>24-12-2010</td>\n",
       "      <td>3818686.45</td>\n",
       "      <td>0</td>\n",
       "      <td>30.59</td>\n",
       "      <td>3.141</td>\n",
       "      <td>182.54459</td>\n",
       "      <td>8.724</td>\n",
       "    </tr>\n",
       "  </tbody>\n",
       "</table>\n",
       "</div>"
      ],
      "text/plain": [
       "      Store        Date  Weekly_Sales  Holiday_Flag  Temperature  Fuel_Price  \\\n",
       "1905     14  24-12-2010    3818686.45             0        30.59       3.141   \n",
       "\n",
       "            CPI  Unemployment  \n",
       "1905  182.54459         8.724  "
      ]
     },
     "execution_count": 8,
     "metadata": {},
     "output_type": "execute_result"
    }
   ],
   "source": [
    "# max sales\n",
    "data.loc[data['Weekly_Sales']==data['Weekly_Sales'].max()]"
   ]
  },
  {
   "cell_type": "code",
   "execution_count": 10,
   "metadata": {},
   "outputs": [
    {
     "data": {
      "text/html": [
       "<div>\n",
       "<style scoped>\n",
       "    .dataframe tbody tr th:only-of-type {\n",
       "        vertical-align: middle;\n",
       "    }\n",
       "\n",
       "    .dataframe tbody tr th {\n",
       "        vertical-align: top;\n",
       "    }\n",
       "\n",
       "    .dataframe thead tr th {\n",
       "        text-align: left;\n",
       "    }\n",
       "</style>\n",
       "<table border=\"1\" class=\"dataframe\">\n",
       "  <thead>\n",
       "    <tr>\n",
       "      <th></th>\n",
       "      <th>Store</th>\n",
       "      <th colspan=\"2\" halign=\"left\">Weekly_Sales</th>\n",
       "      <th>CoV</th>\n",
       "    </tr>\n",
       "    <tr>\n",
       "      <th></th>\n",
       "      <th></th>\n",
       "      <th>std</th>\n",
       "      <th>mean</th>\n",
       "      <th></th>\n",
       "    </tr>\n",
       "  </thead>\n",
       "  <tbody>\n",
       "    <tr>\n",
       "      <th>13</th>\n",
       "      <td>14</td>\n",
       "      <td>317569.949476</td>\n",
       "      <td>2.020978e+06</td>\n",
       "      <td>15.713674</td>\n",
       "    </tr>\n",
       "  </tbody>\n",
       "</table>\n",
       "</div>"
      ],
      "text/plain": [
       "   Store   Weekly_Sales                      CoV\n",
       "                    std          mean           \n",
       "13    14  317569.949476  2.020978e+06  15.713674"
      ]
     },
     "execution_count": 10,
     "metadata": {},
     "output_type": "execute_result"
    }
   ],
   "source": [
    "# standard deviation and coeff of variance'\n",
    "# what store has sales that vary alot\n",
    "maxstd = pd.DataFrame(data.groupby('Store').agg({'Weekly_Sales':['std','mean']}))\n",
    "maxstd=maxstd.reset_index()\n",
    "maxstd['CoV']=(maxstd[('Weekly_Sales','std')]/maxstd[('Weekly_Sales','mean')])*100\n",
    "\n",
    "maxstd.loc[maxstd[('Weekly_Sales','std')]==maxstd[('Weekly_Sales','std')].max()]"
   ]
  },
  {
   "cell_type": "code",
   "execution_count": 12,
   "metadata": {},
   "outputs": [
    {
     "data": {
      "text/html": [
       "<div>\n",
       "<style scoped>\n",
       "    .dataframe tbody tr th:only-of-type {\n",
       "        vertical-align: middle;\n",
       "    }\n",
       "\n",
       "    .dataframe tbody tr th {\n",
       "        vertical-align: top;\n",
       "    }\n",
       "\n",
       "    .dataframe thead th {\n",
       "        text-align: right;\n",
       "    }\n",
       "</style>\n",
       "<table border=\"1\" class=\"dataframe\">\n",
       "  <thead>\n",
       "    <tr style=\"text-align: right;\">\n",
       "      <th></th>\n",
       "      <th>Store</th>\n",
       "      <th>Q2_Weekly_Sales</th>\n",
       "      <th>Q3_Weekly_Sales</th>\n",
       "    </tr>\n",
       "  </thead>\n",
       "  <tbody>\n",
       "    <tr>\n",
       "      <th>0</th>\n",
       "      <td>1</td>\n",
       "      <td>21036965.58</td>\n",
       "      <td>18633209.98</td>\n",
       "    </tr>\n",
       "    <tr>\n",
       "      <th>1</th>\n",
       "      <td>2</td>\n",
       "      <td>25085123.61</td>\n",
       "      <td>22396867.61</td>\n",
       "    </tr>\n",
       "    <tr>\n",
       "      <th>2</th>\n",
       "      <td>3</td>\n",
       "      <td>5562668.16</td>\n",
       "      <td>4966495.93</td>\n",
       "    </tr>\n",
       "    <tr>\n",
       "      <th>3</th>\n",
       "      <td>4</td>\n",
       "      <td>28384185.16</td>\n",
       "      <td>25652119.35</td>\n",
       "    </tr>\n",
       "    <tr>\n",
       "      <th>4</th>\n",
       "      <td>5</td>\n",
       "      <td>4427262.21</td>\n",
       "      <td>3880621.88</td>\n",
       "    </tr>\n",
       "  </tbody>\n",
       "</table>\n",
       "</div>"
      ],
      "text/plain": [
       "   Store  Q2_Weekly_Sales  Q3_Weekly_Sales\n",
       "0      1      21036965.58      18633209.98\n",
       "1      2      25085123.61      22396867.61\n",
       "2      3       5562668.16       4966495.93\n",
       "3      4      28384185.16      25652119.35\n",
       "4      5       4427262.21       3880621.88"
      ]
     },
     "execution_count": 12,
     "metadata": {},
     "output_type": "execute_result"
    }
   ],
   "source": [
    "# store with good quarterly growth in Q3 2012\n",
    "data['Date'] = pd.to_datetime(data['Date'])\n",
    "\n",
    "Q3_date_from = pd.Timestamp(date(2012,7,1))\n",
    "Q3_date_to = pd.Timestamp(date(2012,9,30))\n",
    "\n",
    "Q2_date_from = pd.Timestamp(date(2012,4,1))\n",
    "Q2_date_to = pd.Timestamp(date(2012,6,30))\n",
    "\n",
    "Q2data=data[(data['Date']>Q2_date_from) & (data['Date']<Q2_date_to)]\n",
    "Q3data=data[(data['Date']>Q3_date_from) & (data['Date']<Q3_date_to)]\n",
    "\n",
    "#finding the sum weekly sales of each store in Q2\n",
    "Q2 = pd.DataFrame(Q2data.groupby('Store')['Weekly_Sales'].sum())\n",
    "Q2.reset_index(inplace=True)\n",
    "Q2.rename(columns={'Weekly_Sales':'Q2_Weekly_Sales'}, inplace=True)\n",
    "\n",
    "#finding the sum weekly sales of each store in Q3\n",
    "Q3 = pd.DataFrame(Q3data.groupby('Store')['Weekly_Sales'].sum())\n",
    "Q3.reset_index(inplace=True)\n",
    "Q3.rename(columns={'Weekly_Sales':'Q3_Weekly_Sales'}, inplace=True)\n",
    "\n",
    "Q3_Growth = Q2.merge(Q3, how='inner', on='Store')\n",
    "Q3_Growth.head()"
   ]
  },
  {
   "cell_type": "code",
   "execution_count": 13,
   "metadata": {},
   "outputs": [
    {
     "data": {
      "text/html": [
       "<div>\n",
       "<style scoped>\n",
       "    .dataframe tbody tr th:only-of-type {\n",
       "        vertical-align: middle;\n",
       "    }\n",
       "\n",
       "    .dataframe tbody tr th {\n",
       "        vertical-align: top;\n",
       "    }\n",
       "\n",
       "    .dataframe thead th {\n",
       "        text-align: right;\n",
       "    }\n",
       "</style>\n",
       "<table border=\"1\" class=\"dataframe\">\n",
       "  <thead>\n",
       "    <tr style=\"text-align: right;\">\n",
       "      <th></th>\n",
       "      <th>Store</th>\n",
       "      <th>Q2_Weekly_Sales</th>\n",
       "      <th>Q3_Weekly_Sales</th>\n",
       "      <th>Growth_Rate</th>\n",
       "    </tr>\n",
       "  </thead>\n",
       "  <tbody>\n",
       "    <tr>\n",
       "      <th>15</th>\n",
       "      <td>16</td>\n",
       "      <td>6626133.44</td>\n",
       "      <td>6441311.11</td>\n",
       "      <td>-0.03</td>\n",
       "    </tr>\n",
       "    <tr>\n",
       "      <th>6</th>\n",
       "      <td>7</td>\n",
       "      <td>7613593.92</td>\n",
       "      <td>7322393.92</td>\n",
       "      <td>-0.04</td>\n",
       "    </tr>\n",
       "    <tr>\n",
       "      <th>34</th>\n",
       "      <td>35</td>\n",
       "      <td>10753570.97</td>\n",
       "      <td>10252122.68</td>\n",
       "      <td>-0.05</td>\n",
       "    </tr>\n",
       "    <tr>\n",
       "      <th>22</th>\n",
       "      <td>23</td>\n",
       "      <td>18283424.90</td>\n",
       "      <td>17103654.36</td>\n",
       "      <td>-0.06</td>\n",
       "    </tr>\n",
       "    <tr>\n",
       "      <th>25</th>\n",
       "      <td>26</td>\n",
       "      <td>13218289.66</td>\n",
       "      <td>12417575.35</td>\n",
       "      <td>-0.06</td>\n",
       "    </tr>\n",
       "  </tbody>\n",
       "</table>\n",
       "</div>"
      ],
      "text/plain": [
       "    Store  Q2_Weekly_Sales  Q3_Weekly_Sales  Growth_Rate\n",
       "15     16       6626133.44       6441311.11        -0.03\n",
       "6       7       7613593.92       7322393.92        -0.04\n",
       "34     35      10753570.97      10252122.68        -0.05\n",
       "22     23      18283424.90      17103654.36        -0.06\n",
       "25     26      13218289.66      12417575.35        -0.06"
      ]
     },
     "execution_count": 13,
     "metadata": {},
     "output_type": "execute_result"
    }
   ],
   "source": [
    "Q3_Growth['Growth_Rate'] = (Q3_Growth['Q3_Weekly_Sales']-Q3_Growth['Q2_Weekly_Sales'])/Q3_Growth['Q2_Weekly_Sales']\n",
    "\n",
    "Q3_Growth['Growth_Rate']= round(Q3_Growth['Growth_Rate'],2)\n",
    "Q3_Growth.sort_values('Growth_Rate', ascending=False).head()"
   ]
  },
  {
   "cell_type": "code",
   "execution_count": 14,
   "metadata": {},
   "outputs": [
    {
     "data": {
      "text/html": [
       "<div>\n",
       "<style scoped>\n",
       "    .dataframe tbody tr th:only-of-type {\n",
       "        vertical-align: middle;\n",
       "    }\n",
       "\n",
       "    .dataframe tbody tr th {\n",
       "        vertical-align: top;\n",
       "    }\n",
       "\n",
       "    .dataframe thead th {\n",
       "        text-align: right;\n",
       "    }\n",
       "</style>\n",
       "<table border=\"1\" class=\"dataframe\">\n",
       "  <thead>\n",
       "    <tr style=\"text-align: right;\">\n",
       "      <th></th>\n",
       "      <th>Store</th>\n",
       "      <th>Q2_Weekly_Sales</th>\n",
       "      <th>Q3_Weekly_Sales</th>\n",
       "      <th>Growth_Rate</th>\n",
       "    </tr>\n",
       "  </thead>\n",
       "  <tbody>\n",
       "    <tr>\n",
       "      <th>4</th>\n",
       "      <td>5</td>\n",
       "      <td>4427262.21</td>\n",
       "      <td>3880621.88</td>\n",
       "      <td>-0.12</td>\n",
       "    </tr>\n",
       "    <tr>\n",
       "      <th>28</th>\n",
       "      <td>29</td>\n",
       "      <td>7034493.19</td>\n",
       "      <td>6127862.07</td>\n",
       "      <td>-0.13</td>\n",
       "    </tr>\n",
       "    <tr>\n",
       "      <th>35</th>\n",
       "      <td>36</td>\n",
       "      <td>4090378.90</td>\n",
       "      <td>3578123.58</td>\n",
       "      <td>-0.13</td>\n",
       "    </tr>\n",
       "    <tr>\n",
       "      <th>44</th>\n",
       "      <td>45</td>\n",
       "      <td>10278900.05</td>\n",
       "      <td>8851242.32</td>\n",
       "      <td>-0.14</td>\n",
       "    </tr>\n",
       "    <tr>\n",
       "      <th>13</th>\n",
       "      <td>14</td>\n",
       "      <td>24427769.06</td>\n",
       "      <td>20140430.40</td>\n",
       "      <td>-0.18</td>\n",
       "    </tr>\n",
       "  </tbody>\n",
       "</table>\n",
       "</div>"
      ],
      "text/plain": [
       "    Store  Q2_Weekly_Sales  Q3_Weekly_Sales  Growth_Rate\n",
       "4       5       4427262.21       3880621.88        -0.12\n",
       "28     29       7034493.19       6127862.07        -0.13\n",
       "35     36       4090378.90       3578123.58        -0.13\n",
       "44     45      10278900.05       8851242.32        -0.14\n",
       "13     14      24427769.06      20140430.40        -0.18"
      ]
     },
     "execution_count": 14,
     "metadata": {},
     "output_type": "execute_result"
    }
   ],
   "source": [
    "Q3_Growth.sort_values('Growth_Rate', ascending=False).tail()"
   ]
  },
  {
   "cell_type": "code",
   "execution_count": 15,
   "metadata": {},
   "outputs": [
    {
     "data": {
      "text/plain": [
       "Holiday_Flag\n",
       "0    1.041256e+06\n",
       "1    1.122888e+06\n",
       "Name: Weekly_Sales, dtype: float64"
      ]
     },
     "execution_count": 15,
     "metadata": {},
     "output_type": "execute_result"
    }
   ],
   "source": [
    "# QUESTION 4:- Some holidays have a negative impact on sales. \n",
    "# Find out holidays which have higher sales than the mean sales in non-holiday season for all stores together.\n",
    "\n",
    "data.groupby('Holiday_Flag')['Weekly_Sales'].mean()"
   ]
  },
  {
   "cell_type": "code",
   "execution_count": 21,
   "metadata": {},
   "outputs": [],
   "source": [
    "#marking the holiday dates \n",
    "Christmas1 = pd.Timestamp(date(2010,12,31) )\n",
    "Christmas2 = pd.Timestamp(date(2011,12,30) )\n",
    "Christmas3 = pd.Timestamp(date(2012,12,28) )\n",
    "Christmas4 = pd.Timestamp(date(2013,12,27) )\n",
    "\n",
    "Thanksgiving1=pd.Timestamp(date(2010,11,26) )\n",
    "Thanksgiving2=pd.Timestamp(date(2011,11,25) )\n",
    "Thanksgiving3=pd.Timestamp(date(2012,11,23) )\n",
    "Thanksgiving4=pd.Timestamp(date(2013,11,29) )\n",
    "\n",
    "LabourDay1=pd.Timestamp(date(2010,2,10) )\n",
    "LabourDay2=pd.Timestamp(date(2011,2,9) )\n",
    "LabourDay3=pd.Timestamp(date(2012,2,7) )\n",
    "LabourDay4=pd.Timestamp(date(2013,2,6) )\n",
    "\n",
    "SuperBowl1=pd.Timestamp(date(2010,9,12) )\n",
    "SuperBowl2=pd.Timestamp(date(2011,9,11) )\n",
    "SuperBowl3=pd.Timestamp(date(2012,9,10) )\n",
    "SuperBowl4=pd.Timestamp(date(2013,9,8) )"
   ]
  },
  {
   "cell_type": "code",
   "execution_count": 22,
   "metadata": {},
   "outputs": [],
   "source": [
    "Christmas_mean_sales = data[(data['Date']==Christmas1)|(data['Date']==Christmas2)|(data['Date']==Christmas3)|(data['Date']==Christmas4)]\n",
    "Thanksgiving_mean_sales = data[(data['Date']==Thanksgiving1)|(data['Date']==Thanksgiving2)|(data['Date']==Thanksgiving3)|(data['Date']==Thanksgiving4)]\n",
    "LabourDay_mean_sales = data[(data['Date']==LabourDay1)|(data['Date']==LabourDay2)|(data['Date']==LabourDay3)|(data['Date']==LabourDay4)]\n",
    "SuperBowl_mean_sales = data[(data['Date']==SuperBowl1)|(data['Date']==SuperBowl2)|(data['Date']==SuperBowl3)|(data['Date']==SuperBowl4)]"
   ]
  },
  {
   "cell_type": "code",
   "execution_count": 24,
   "metadata": {},
   "outputs": [
    {
     "data": {
      "text/plain": [
       "{'Christmas_mean_sales': 960833.11,\n",
       " 'Thanksgiving_mean_sales': 1471273.43,\n",
       " 'LabourDay_mean_sales': 1008369.41,\n",
       " 'SuperBowl_mean_sales': nan,\n",
       " 'Non holiday weekly sales': 1041256.3802088564}"
      ]
     },
     "execution_count": 24,
     "metadata": {},
     "output_type": "execute_result"
    }
   ],
   "source": [
    "list_of_mean_sales = {\n",
    "    'Christmas_mean_sales':round(Christmas_mean_sales['Weekly_Sales'].mean(),2),\n",
    "    'Thanksgiving_mean_sales': round(Thanksgiving_mean_sales['Weekly_Sales'].mean(),2),\n",
    "    'LabourDay_mean_sales': round(LabourDay_mean_sales['Weekly_Sales'].mean(),2),\n",
    "    'SuperBowl_mean_sales': round(SuperBowl_mean_sales['Weekly_Sales'].mean(),2),\n",
    "    'Non holiday weekly sales': data[data['Holiday_Flag']==0]['Weekly_Sales'].mean()                              \n",
    "}\n",
    "\n",
    "list_of_mean_sales"
   ]
  },
  {
   "cell_type": "code",
   "execution_count": 25,
   "metadata": {},
   "outputs": [
    {
     "name": "stderr",
     "output_type": "stream",
     "text": [
      "C:\\Users\\mushirih\\anaconda3\\lib\\site-packages\\pandas\\plotting\\_matplotlib\\converter.py:103: FutureWarning: Using an implicitly registered datetime converter for a matplotlib plotting method. The converter was registered by pandas on import. Future versions of pandas will require you to explicitly register matplotlib converters.\n",
      "\n",
      "To register the converters:\n",
      "\t>>> from pandas.plotting import register_matplotlib_converters\n",
      "\t>>> register_matplotlib_converters()\n",
      "  warnings.warn(msg, FutureWarning)\n"
     ]
    },
    {
     "data": {
      "text/plain": [
       "Text(0, 0.5, 'Weekly sales')"
      ]
     },
     "execution_count": 25,
     "metadata": {},
     "output_type": "execute_result"
    },
    {
     "data": {
      "image/png": "[encoded data removed]",
      "text/plain": [
       "<Figure size 720x576 with 1 Axes>"
      ]
     },
     "metadata": {
      "needs_background": "light"
     },
     "output_type": "display_data"
    },
    {
     "data": {
      "image/png": "[encoded data removed]",
      "text/plain": [
       "<Figure size 720x576 with 1 Axes>"
      ]
     },
     "metadata": {
      "needs_background": "light"
     },
     "output_type": "display_data"
    },
    {
     "data": {
      "image/png": "[encoded data removed]",
      "text/plain": [
       "<Figure size 720x576 with 1 Axes>"
      ]
     },
     "metadata": {
      "needs_background": "light"
     },
     "output_type": "display_data"
    }
   ],
   "source": [
    "# QUESTION 5 :-Provide a Monthly,Quaterly and Semester view of sales in units and give insights.\n",
    "monthly = data.groupby(pd.Grouper(key='Date', freq = '1M')).sum()\n",
    "monthly = monthly.reset_index()\n",
    "fig, ax = plt.subplots(figsize=(10,8))\n",
    "X= monthly['Date']\n",
    "Y = monthly['Weekly_Sales']\n",
    "plt.plot(X,Y)\n",
    "plt.title('Month wise sales')\n",
    "plt.xlabel('Monthly')\n",
    "plt.ylabel('Weekly Sales')\n",
    "\n",
    "Quarterly = data.groupby(pd.Grouper(key='Date',freq='3M')).sum()\n",
    "Quarterly = Quarterly.reset_index()\n",
    "fig, ax = plt.subplots(figsize=(10,8))\n",
    "X = Quarterly['Date']\n",
    "Y = Quarterly['Weekly_Sales']\n",
    "plt.plot(X,Y)\n",
    "plt.title('Quarterly wise sales')\n",
    "plt.xlabel('Quarterly')\n",
    "plt.ylabel('Weekly sales')\n",
    "\n",
    "Semester = data.groupby(pd.Grouper(key='Date', freq='6M')).sum()\n",
    "Semester= Semester.reset_index()\n",
    "fig, ax = plt.subplots(figsize=(10,8))\n",
    "X= Semester['Date']\n",
    "Y= Semester['Weekly_Sales']\n",
    "plt.plot(X,Y)\n",
    "plt.title('Semester Sales')\n",
    "plt.xlabel('Semester')\n",
    "plt.ylabel('Weekly sales')\n"
   ]
  },
  {
   "cell_type": "code",
   "execution_count": null,
   "metadata": {},
   "outputs": [],
   "source": []
  }
 ],
 "metadata": {
  "kernelspec": {
   "display_name": "Python 3",
   "language": "python",
   "name": "python3"
  },
  "language_info": {
   "codemirror_mode": {
    "name": "ipython",
    "version": 3
   },
   "file_extension": ".py",
   "mimetype": "text/x-python",
   "name": "python",
   "nbconvert_exporter": "python",
   "pygments_lexer": "ipython3",
   "version": "3.7.6"
  }
 },
 "nbformat": 4,
 "nbformat_minor": 4
}
